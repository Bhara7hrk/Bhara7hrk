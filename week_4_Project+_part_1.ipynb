{
 "cells": [
  {
   "cell_type": "markdown",
   "id": "c9a71e8c",
   "metadata": {},
   "source": [
    "# Course 2: Python project 04\n",
    "\n",
    "## PART I: EDA & Data Preprocessing on Google App Store Rating Dataset.\n",
    "**Domain:** Mobile Device apps\n",
    "***\n"
   ]
  },
  {
   "cell_type": "markdown",
   "id": "c5a7eebf",
   "metadata": {},
   "source": [
    "## Dataset Information:\n",
    "Web scraped data of 10k Play Store apps for analyzing the Android market. Each app (row) has values for\n",
    "category, rating, size, and more.\n",
    "***\n",
    "### Attribute Information:\n",
    "\n",
    "|**Slno.**|\t**Attribute**\t|**Description**|\n",
    "|:----|:----------|:----------|\n",
    "|1\t|App\t        |Application name|\n",
    "|2\t|Category\t    |Category the app belongs to.|\n",
    "|3\t|Rating\t        |Overall user rating of the app|\n",
    "|4\t|Size\t        |Size of the app|\n",
    "|5\t|Installs\t    |Number of user reviews for the app|\n",
    "|6\t|Type\t        |Paid or Free|\n",
    "|7\t|Price\t        |Price of the app|\n",
    "|8\t|Content Rating |Age group the app is targeted at - children/Mature 21+ /Adult|\n",
    "|9\t|Genres\t        |An app can belong to multiple genres (apart from its main category).|\n",
    "|10\t|Last Updated\t|Date when the app was last updated on play store.|\n",
    "|11\t|Current Ver\t|Current version of the app available on play store.|\n",
    "|12\t|Android Ver\t|Min required Android Version.|\n"
   ]
  },
  {
   "cell_type": "markdown",
   "id": "5ac17824",
   "metadata": {},
   "source": [
    "### Objective:\n",
    " To explore the data and pre-process it for future use in any predictive analytics study.\n",
    " ***"
   ]
  },
  {
   "cell_type": "markdown",
   "id": "9ffeee2f",
   "metadata": {},
   "source": [
    "### 1.0 Import required libraries and read the dataset."
   ]
  },
  {
   "cell_type": "code",
   "execution_count": 225,
   "id": "ddf47413",
   "metadata": {
    "ExecuteTime": {
     "end_time": "2023-04-23T13:05:07.986065Z",
     "start_time": "2023-04-23T13:05:07.936497Z"
    }
   },
   "outputs": [],
   "source": [
    "import pandas as pd \n",
    "import numpy as np\n",
    "import matplotlib.pyplot as plt\n",
    "import seaborn as sns\n",
    "sns.set()"
   ]
  },
  {
   "cell_type": "code",
   "execution_count": 226,
   "id": "3d5f09bb",
   "metadata": {
    "ExecuteTime": {
     "end_time": "2023-04-23T13:05:14.633161Z",
     "start_time": "2023-04-23T13:05:14.496519Z"
    }
   },
   "outputs": [],
   "source": [
    "df = pd.read_csv(\"C:\\\\Users\\\\bhara\\\\Downloads\\\\Apps_data+(1).csv\")"
   ]
  },
  {
   "cell_type": "markdown",
   "id": "54733747",
   "metadata": {},
   "source": [
    "***"
   ]
  },
  {
   "cell_type": "markdown",
   "id": "4f4e2f29",
   "metadata": {},
   "source": [
    "### 2.0 Check the first few samples, shape, info of the data and try to familiarize yourself with different features.\n",
    "\n"
   ]
  },
  {
   "cell_type": "code",
   "execution_count": 227,
   "id": "efa860df",
   "metadata": {
    "ExecuteTime": {
     "end_time": "2023-04-23T13:05:14.664616Z",
     "start_time": "2023-04-23T13:05:14.634667Z"
    },
    "scrolled": false
   },
   "outputs": [
    {
     "data": {
      "text/html": [
       "<div>\n",
       "<style scoped>\n",
       "    .dataframe tbody tr th:only-of-type {\n",
       "        vertical-align: middle;\n",
       "    }\n",
       "\n",
       "    .dataframe tbody tr th {\n",
       "        vertical-align: top;\n",
       "    }\n",
       "\n",
       "    .dataframe thead th {\n",
       "        text-align: right;\n",
       "    }\n",
       "</style>\n",
       "<table border=\"1\" class=\"dataframe\">\n",
       "  <thead>\n",
       "    <tr style=\"text-align: right;\">\n",
       "      <th></th>\n",
       "      <th>App</th>\n",
       "      <th>Category</th>\n",
       "      <th>Rating</th>\n",
       "      <th>Reviews</th>\n",
       "      <th>Size</th>\n",
       "      <th>Installs</th>\n",
       "      <th>Type</th>\n",
       "      <th>Price</th>\n",
       "      <th>Content Rating</th>\n",
       "      <th>Genres</th>\n",
       "      <th>Last Updated</th>\n",
       "      <th>Current Ver</th>\n",
       "      <th>Android Ver</th>\n",
       "    </tr>\n",
       "  </thead>\n",
       "  <tbody>\n",
       "    <tr>\n",
       "      <th>66</th>\n",
       "      <td>Used Cars Mexico</td>\n",
       "      <td>AUTO_AND_VEHICLES</td>\n",
       "      <td>4.0</td>\n",
       "      <td>190</td>\n",
       "      <td>2.5M</td>\n",
       "      <td>50,000+</td>\n",
       "      <td>Free</td>\n",
       "      <td>0</td>\n",
       "      <td>Everyone</td>\n",
       "      <td>Auto &amp; Vehicles</td>\n",
       "      <td>October 14, 2016</td>\n",
       "      <td>1.0</td>\n",
       "      <td>2.3 and up</td>\n",
       "    </tr>\n",
       "    <tr>\n",
       "      <th>1743</th>\n",
       "      <td>Hill Climb Racing 2</td>\n",
       "      <td>GAME</td>\n",
       "      <td>4.6</td>\n",
       "      <td>2750410</td>\n",
       "      <td>Varies with device</td>\n",
       "      <td>100,000,000+</td>\n",
       "      <td>Free</td>\n",
       "      <td>0</td>\n",
       "      <td>Everyone</td>\n",
       "      <td>Racing</td>\n",
       "      <td>August 2, 2018</td>\n",
       "      <td>1.17.2</td>\n",
       "      <td>4.2 and up</td>\n",
       "    </tr>\n",
       "    <tr>\n",
       "      <th>1869</th>\n",
       "      <td>Candy Crush Saga</td>\n",
       "      <td>GAME</td>\n",
       "      <td>4.4</td>\n",
       "      <td>22430188</td>\n",
       "      <td>74M</td>\n",
       "      <td>500,000,000+</td>\n",
       "      <td>Free</td>\n",
       "      <td>0</td>\n",
       "      <td>Everyone</td>\n",
       "      <td>Casual</td>\n",
       "      <td>July 5, 2018</td>\n",
       "      <td>1.129.0.2</td>\n",
       "      <td>4.1 and up</td>\n",
       "    </tr>\n",
       "    <tr>\n",
       "      <th>9048</th>\n",
       "      <td>Elemental Galaxy Dx - Match3</td>\n",
       "      <td>FAMILY</td>\n",
       "      <td>4.0</td>\n",
       "      <td>127</td>\n",
       "      <td>14M</td>\n",
       "      <td>10,000+</td>\n",
       "      <td>Free</td>\n",
       "      <td>0</td>\n",
       "      <td>Everyone</td>\n",
       "      <td>Puzzle</td>\n",
       "      <td>March 11, 2014</td>\n",
       "      <td>1.0.9</td>\n",
       "      <td>2.2 and up</td>\n",
       "    </tr>\n",
       "    <tr>\n",
       "      <th>9042</th>\n",
       "      <td>Tricky Bike Stunt Rider DX</td>\n",
       "      <td>FAMILY</td>\n",
       "      <td>4.4</td>\n",
       "      <td>16</td>\n",
       "      <td>45M</td>\n",
       "      <td>500+</td>\n",
       "      <td>Free</td>\n",
       "      <td>0</td>\n",
       "      <td>Everyone</td>\n",
       "      <td>Simulation;Education</td>\n",
       "      <td>July 29, 2018</td>\n",
       "      <td>1.1.1</td>\n",
       "      <td>4.0 and up</td>\n",
       "    </tr>\n",
       "  </tbody>\n",
       "</table>\n",
       "</div>"
      ],
      "text/plain": [
       "                               App           Category  Rating   Reviews  \\\n",
       "66                Used Cars Mexico  AUTO_AND_VEHICLES     4.0       190   \n",
       "1743           Hill Climb Racing 2               GAME     4.6   2750410   \n",
       "1869              Candy Crush Saga               GAME     4.4  22430188   \n",
       "9048  Elemental Galaxy Dx - Match3             FAMILY     4.0       127   \n",
       "9042    Tricky Bike Stunt Rider DX             FAMILY     4.4        16   \n",
       "\n",
       "                    Size      Installs  Type Price Content Rating  \\\n",
       "66                  2.5M       50,000+  Free     0       Everyone   \n",
       "1743  Varies with device  100,000,000+  Free     0       Everyone   \n",
       "1869                 74M  500,000,000+  Free     0       Everyone   \n",
       "9048                 14M       10,000+  Free     0       Everyone   \n",
       "9042                 45M          500+  Free     0       Everyone   \n",
       "\n",
       "                    Genres      Last Updated Current Ver Android Ver  \n",
       "66         Auto & Vehicles  October 14, 2016         1.0  2.3 and up  \n",
       "1743                Racing    August 2, 2018      1.17.2  4.2 and up  \n",
       "1869                Casual      July 5, 2018   1.129.0.2  4.1 and up  \n",
       "9048                Puzzle    March 11, 2014       1.0.9  2.2 and up  \n",
       "9042  Simulation;Education     July 29, 2018       1.1.1  4.0 and up  "
      ]
     },
     "execution_count": 227,
     "metadata": {},
     "output_type": "execute_result"
    }
   ],
   "source": [
    "df.sample(5)"
   ]
  },
  {
   "cell_type": "code",
   "execution_count": 228,
   "id": "37bb6260",
   "metadata": {
    "ExecuteTime": {
     "end_time": "2023-04-23T13:05:14.679777Z",
     "start_time": "2023-04-23T13:05:14.670138Z"
    }
   },
   "outputs": [
    {
     "data": {
      "text/plain": [
       "(10841, 13)"
      ]
     },
     "execution_count": 228,
     "metadata": {},
     "output_type": "execute_result"
    }
   ],
   "source": [
    "df.shape"
   ]
  },
  {
   "cell_type": "code",
   "execution_count": 229,
   "id": "88e8206f",
   "metadata": {
    "ExecuteTime": {
     "end_time": "2023-04-23T13:05:14.726370Z",
     "start_time": "2023-04-23T13:05:14.682779Z"
    },
    "scrolled": false
   },
   "outputs": [
    {
     "name": "stdout",
     "output_type": "stream",
     "text": [
      "<class 'pandas.core.frame.DataFrame'>\n",
      "RangeIndex: 10841 entries, 0 to 10840\n",
      "Data columns (total 13 columns):\n",
      " #   Column          Non-Null Count  Dtype  \n",
      "---  ------          --------------  -----  \n",
      " 0   App             10841 non-null  object \n",
      " 1   Category        10841 non-null  object \n",
      " 2   Rating          9367 non-null   float64\n",
      " 3   Reviews         10841 non-null  object \n",
      " 4   Size            10841 non-null  object \n",
      " 5   Installs        10841 non-null  object \n",
      " 6   Type            10840 non-null  object \n",
      " 7   Price           10841 non-null  object \n",
      " 8   Content Rating  10840 non-null  object \n",
      " 9   Genres          10841 non-null  object \n",
      " 10  Last Updated    10841 non-null  object \n",
      " 11  Current Ver     10833 non-null  object \n",
      " 12  Android Ver     10838 non-null  object \n",
      "dtypes: float64(1), object(12)\n",
      "memory usage: 1.1+ MB\n"
     ]
    }
   ],
   "source": [
    "df.info()"
   ]
  },
  {
   "cell_type": "markdown",
   "id": "d42ef284",
   "metadata": {},
   "source": [
    "- Data types of 12 columns out of 13 are object. Even some of the numerical variables data type is object.\n",
    "- Only column Rating data type is Float."
   ]
  },
  {
   "cell_type": "code",
   "execution_count": 230,
   "id": "f0e48d5a",
   "metadata": {
    "ExecuteTime": {
     "end_time": "2023-04-23T13:05:14.741570Z",
     "start_time": "2023-04-23T13:05:14.728369Z"
    }
   },
   "outputs": [
    {
     "data": {
      "text/plain": [
       "Index(['App', 'Category', 'Rating', 'Reviews', 'Size', 'Installs', 'Type',\n",
       "       'Price', 'Content Rating', 'Genres', 'Last Updated', 'Current Ver',\n",
       "       'Android Ver'],\n",
       "      dtype='object')"
      ]
     },
     "execution_count": 230,
     "metadata": {},
     "output_type": "execute_result"
    }
   ],
   "source": [
    "df.columns"
   ]
  },
  {
   "cell_type": "markdown",
   "id": "23d50374",
   "metadata": {},
   "source": [
    "***"
   ]
  },
  {
   "cell_type": "markdown",
   "id": "8f24d6ba",
   "metadata": {},
   "source": [
    "### 3.0   Check summary statistics of the dataset. List out the columns that need to be worked upon for model building.\n"
   ]
  },
  {
   "cell_type": "code",
   "execution_count": 231,
   "id": "668dfafd",
   "metadata": {
    "ExecuteTime": {
     "end_time": "2023-04-23T13:05:14.772667Z",
     "start_time": "2023-04-23T13:05:14.744563Z"
    },
    "scrolled": true
   },
   "outputs": [
    {
     "data": {
      "text/html": [
       "<div>\n",
       "<style scoped>\n",
       "    .dataframe tbody tr th:only-of-type {\n",
       "        vertical-align: middle;\n",
       "    }\n",
       "\n",
       "    .dataframe tbody tr th {\n",
       "        vertical-align: top;\n",
       "    }\n",
       "\n",
       "    .dataframe thead th {\n",
       "        text-align: right;\n",
       "    }\n",
       "</style>\n",
       "<table border=\"1\" class=\"dataframe\">\n",
       "  <thead>\n",
       "    <tr style=\"text-align: right;\">\n",
       "      <th></th>\n",
       "      <th>Rating</th>\n",
       "    </tr>\n",
       "  </thead>\n",
       "  <tbody>\n",
       "    <tr>\n",
       "      <th>count</th>\n",
       "      <td>9367.000000</td>\n",
       "    </tr>\n",
       "    <tr>\n",
       "      <th>mean</th>\n",
       "      <td>4.193338</td>\n",
       "    </tr>\n",
       "    <tr>\n",
       "      <th>std</th>\n",
       "      <td>0.537431</td>\n",
       "    </tr>\n",
       "    <tr>\n",
       "      <th>min</th>\n",
       "      <td>1.000000</td>\n",
       "    </tr>\n",
       "    <tr>\n",
       "      <th>25%</th>\n",
       "      <td>4.000000</td>\n",
       "    </tr>\n",
       "    <tr>\n",
       "      <th>50%</th>\n",
       "      <td>4.300000</td>\n",
       "    </tr>\n",
       "    <tr>\n",
       "      <th>75%</th>\n",
       "      <td>4.500000</td>\n",
       "    </tr>\n",
       "    <tr>\n",
       "      <th>max</th>\n",
       "      <td>19.000000</td>\n",
       "    </tr>\n",
       "  </tbody>\n",
       "</table>\n",
       "</div>"
      ],
      "text/plain": [
       "            Rating\n",
       "count  9367.000000\n",
       "mean      4.193338\n",
       "std       0.537431\n",
       "min       1.000000\n",
       "25%       4.000000\n",
       "50%       4.300000\n",
       "75%       4.500000\n",
       "max      19.000000"
      ]
     },
     "execution_count": 231,
     "metadata": {},
     "output_type": "execute_result"
    }
   ],
   "source": [
    "df.describe()"
   ]
  },
  {
   "cell_type": "code",
   "execution_count": 232,
   "id": "0e2da9ac",
   "metadata": {
    "ExecuteTime": {
     "end_time": "2023-04-23T13:05:14.880912Z",
     "start_time": "2023-04-23T13:05:14.782161Z"
    },
    "scrolled": false
   },
   "outputs": [
    {
     "data": {
      "text/html": [
       "<div>\n",
       "<style scoped>\n",
       "    .dataframe tbody tr th:only-of-type {\n",
       "        vertical-align: middle;\n",
       "    }\n",
       "\n",
       "    .dataframe tbody tr th {\n",
       "        vertical-align: top;\n",
       "    }\n",
       "\n",
       "    .dataframe thead th {\n",
       "        text-align: right;\n",
       "    }\n",
       "</style>\n",
       "<table border=\"1\" class=\"dataframe\">\n",
       "  <thead>\n",
       "    <tr style=\"text-align: right;\">\n",
       "      <th></th>\n",
       "      <th>App</th>\n",
       "      <th>Category</th>\n",
       "      <th>Reviews</th>\n",
       "      <th>Size</th>\n",
       "      <th>Installs</th>\n",
       "      <th>Type</th>\n",
       "      <th>Price</th>\n",
       "      <th>Content Rating</th>\n",
       "      <th>Genres</th>\n",
       "      <th>Last Updated</th>\n",
       "      <th>Current Ver</th>\n",
       "      <th>Android Ver</th>\n",
       "    </tr>\n",
       "  </thead>\n",
       "  <tbody>\n",
       "    <tr>\n",
       "      <th>count</th>\n",
       "      <td>10841</td>\n",
       "      <td>10841</td>\n",
       "      <td>10841</td>\n",
       "      <td>10841</td>\n",
       "      <td>10841</td>\n",
       "      <td>10840</td>\n",
       "      <td>10841</td>\n",
       "      <td>10840</td>\n",
       "      <td>10841</td>\n",
       "      <td>10841</td>\n",
       "      <td>10833</td>\n",
       "      <td>10838</td>\n",
       "    </tr>\n",
       "    <tr>\n",
       "      <th>unique</th>\n",
       "      <td>9660</td>\n",
       "      <td>34</td>\n",
       "      <td>6002</td>\n",
       "      <td>462</td>\n",
       "      <td>22</td>\n",
       "      <td>3</td>\n",
       "      <td>93</td>\n",
       "      <td>6</td>\n",
       "      <td>120</td>\n",
       "      <td>1378</td>\n",
       "      <td>2832</td>\n",
       "      <td>33</td>\n",
       "    </tr>\n",
       "    <tr>\n",
       "      <th>top</th>\n",
       "      <td>ROBLOX</td>\n",
       "      <td>FAMILY</td>\n",
       "      <td>0</td>\n",
       "      <td>Varies with device</td>\n",
       "      <td>1,000,000+</td>\n",
       "      <td>Free</td>\n",
       "      <td>0</td>\n",
       "      <td>Everyone</td>\n",
       "      <td>Tools</td>\n",
       "      <td>August 3, 2018</td>\n",
       "      <td>Varies with device</td>\n",
       "      <td>4.1 and up</td>\n",
       "    </tr>\n",
       "    <tr>\n",
       "      <th>freq</th>\n",
       "      <td>9</td>\n",
       "      <td>1972</td>\n",
       "      <td>596</td>\n",
       "      <td>1695</td>\n",
       "      <td>1579</td>\n",
       "      <td>10039</td>\n",
       "      <td>10040</td>\n",
       "      <td>8714</td>\n",
       "      <td>842</td>\n",
       "      <td>326</td>\n",
       "      <td>1459</td>\n",
       "      <td>2451</td>\n",
       "    </tr>\n",
       "  </tbody>\n",
       "</table>\n",
       "</div>"
      ],
      "text/plain": [
       "           App Category Reviews                Size    Installs   Type  Price  \\\n",
       "count    10841    10841   10841               10841       10841  10840  10841   \n",
       "unique    9660       34    6002                 462          22      3     93   \n",
       "top     ROBLOX   FAMILY       0  Varies with device  1,000,000+   Free      0   \n",
       "freq         9     1972     596                1695        1579  10039  10040   \n",
       "\n",
       "       Content Rating Genres    Last Updated         Current Ver Android Ver  \n",
       "count           10840  10841           10841               10833       10838  \n",
       "unique              6    120            1378                2832          33  \n",
       "top          Everyone  Tools  August 3, 2018  Varies with device  4.1 and up  \n",
       "freq             8714    842             326                1459        2451  "
      ]
     },
     "execution_count": 232,
     "metadata": {},
     "output_type": "execute_result"
    }
   ],
   "source": [
    "df.describe(include='object')"
   ]
  },
  {
   "cell_type": "markdown",
   "id": "3f42c4bd",
   "metadata": {},
   "source": [
    "- summary stats of column rating shows that the 75% of the data has rating of 4.5\n",
    "- minimum rating of 1.\n",
    "- There may be less outliers present since mean and median are close to each other.\n",
    "\n",
    "Some of the numerical variables datatype needs to be changed, like price , size, Reviews,Installs and some of the un wanted columns needs to be removed like Android Ver,current Ver , App.\n",
    "\n",
    "For model building column Ratings as dependent variable(y)\n",
    "and remaining significant variables as independent variables(X)."
   ]
  },
  {
   "cell_type": "markdown",
   "id": "e8fab8a9",
   "metadata": {
    "ExecuteTime": {
     "end_time": "2023-04-22T07:33:51.902105Z",
     "start_time": "2023-04-22T07:33:51.887619Z"
    }
   },
   "source": [
    "***"
   ]
  },
  {
   "cell_type": "markdown",
   "id": "98f8152b",
   "metadata": {},
   "source": [
    "### 4.0 Check if there are any duplicate records in the dataset? if any drop them."
   ]
  },
  {
   "cell_type": "code",
   "execution_count": 233,
   "id": "25377062",
   "metadata": {
    "ExecuteTime": {
     "end_time": "2023-04-23T13:05:14.943153Z",
     "start_time": "2023-04-23T13:05:14.888503Z"
    },
    "scrolled": false
   },
   "outputs": [
    {
     "data": {
      "text/html": [
       "<div>\n",
       "<style scoped>\n",
       "    .dataframe tbody tr th:only-of-type {\n",
       "        vertical-align: middle;\n",
       "    }\n",
       "\n",
       "    .dataframe tbody tr th {\n",
       "        vertical-align: top;\n",
       "    }\n",
       "\n",
       "    .dataframe thead th {\n",
       "        text-align: right;\n",
       "    }\n",
       "</style>\n",
       "<table border=\"1\" class=\"dataframe\">\n",
       "  <thead>\n",
       "    <tr style=\"text-align: right;\">\n",
       "      <th></th>\n",
       "      <th>App</th>\n",
       "      <th>Category</th>\n",
       "      <th>Rating</th>\n",
       "      <th>Reviews</th>\n",
       "      <th>Size</th>\n",
       "      <th>Installs</th>\n",
       "      <th>Type</th>\n",
       "      <th>Price</th>\n",
       "      <th>Content Rating</th>\n",
       "      <th>Genres</th>\n",
       "      <th>Last Updated</th>\n",
       "      <th>Current Ver</th>\n",
       "      <th>Android Ver</th>\n",
       "    </tr>\n",
       "  </thead>\n",
       "  <tbody>\n",
       "    <tr>\n",
       "      <th>0</th>\n",
       "      <td>Photo Editor &amp; Candy Camera &amp; Grid &amp; ScrapBook</td>\n",
       "      <td>ART_AND_DESIGN</td>\n",
       "      <td>4.1</td>\n",
       "      <td>159</td>\n",
       "      <td>19M</td>\n",
       "      <td>10,000+</td>\n",
       "      <td>Free</td>\n",
       "      <td>0</td>\n",
       "      <td>Everyone</td>\n",
       "      <td>Art &amp; Design</td>\n",
       "      <td>January 7, 2018</td>\n",
       "      <td>1.0.0</td>\n",
       "      <td>4.0.3 and up</td>\n",
       "    </tr>\n",
       "    <tr>\n",
       "      <th>1</th>\n",
       "      <td>Coloring book moana</td>\n",
       "      <td>ART_AND_DESIGN</td>\n",
       "      <td>3.9</td>\n",
       "      <td>967</td>\n",
       "      <td>14M</td>\n",
       "      <td>500,000+</td>\n",
       "      <td>Free</td>\n",
       "      <td>0</td>\n",
       "      <td>Everyone</td>\n",
       "      <td>Art &amp; Design;Pretend Play</td>\n",
       "      <td>January 15, 2018</td>\n",
       "      <td>2.0.0</td>\n",
       "      <td>4.0.3 and up</td>\n",
       "    </tr>\n",
       "    <tr>\n",
       "      <th>2</th>\n",
       "      <td>U Launcher Lite – FREE Live Cool Themes, Hide ...</td>\n",
       "      <td>ART_AND_DESIGN</td>\n",
       "      <td>4.7</td>\n",
       "      <td>87510</td>\n",
       "      <td>8.7M</td>\n",
       "      <td>5,000,000+</td>\n",
       "      <td>Free</td>\n",
       "      <td>0</td>\n",
       "      <td>Everyone</td>\n",
       "      <td>Art &amp; Design</td>\n",
       "      <td>August 1, 2018</td>\n",
       "      <td>1.2.4</td>\n",
       "      <td>4.0.3 and up</td>\n",
       "    </tr>\n",
       "    <tr>\n",
       "      <th>3</th>\n",
       "      <td>Sketch - Draw &amp; Paint</td>\n",
       "      <td>ART_AND_DESIGN</td>\n",
       "      <td>4.5</td>\n",
       "      <td>215644</td>\n",
       "      <td>25M</td>\n",
       "      <td>50,000,000+</td>\n",
       "      <td>Free</td>\n",
       "      <td>0</td>\n",
       "      <td>Teen</td>\n",
       "      <td>Art &amp; Design</td>\n",
       "      <td>June 8, 2018</td>\n",
       "      <td>Varies with device</td>\n",
       "      <td>4.2 and up</td>\n",
       "    </tr>\n",
       "    <tr>\n",
       "      <th>4</th>\n",
       "      <td>Pixel Draw - Number Art Coloring Book</td>\n",
       "      <td>ART_AND_DESIGN</td>\n",
       "      <td>4.3</td>\n",
       "      <td>967</td>\n",
       "      <td>2.8M</td>\n",
       "      <td>100,000+</td>\n",
       "      <td>Free</td>\n",
       "      <td>0</td>\n",
       "      <td>Everyone</td>\n",
       "      <td>Art &amp; Design;Creativity</td>\n",
       "      <td>June 20, 2018</td>\n",
       "      <td>1.1</td>\n",
       "      <td>4.4 and up</td>\n",
       "    </tr>\n",
       "    <tr>\n",
       "      <th>...</th>\n",
       "      <td>...</td>\n",
       "      <td>...</td>\n",
       "      <td>...</td>\n",
       "      <td>...</td>\n",
       "      <td>...</td>\n",
       "      <td>...</td>\n",
       "      <td>...</td>\n",
       "      <td>...</td>\n",
       "      <td>...</td>\n",
       "      <td>...</td>\n",
       "      <td>...</td>\n",
       "      <td>...</td>\n",
       "      <td>...</td>\n",
       "    </tr>\n",
       "    <tr>\n",
       "      <th>10353</th>\n",
       "      <td>Sya9a Maroc - FR</td>\n",
       "      <td>FAMILY</td>\n",
       "      <td>4.5</td>\n",
       "      <td>38</td>\n",
       "      <td>53M</td>\n",
       "      <td>5,000+</td>\n",
       "      <td>Free</td>\n",
       "      <td>0</td>\n",
       "      <td>Everyone</td>\n",
       "      <td>Education</td>\n",
       "      <td>July 25, 2017</td>\n",
       "      <td>1.48</td>\n",
       "      <td>4.1 and up</td>\n",
       "    </tr>\n",
       "    <tr>\n",
       "      <th>10354</th>\n",
       "      <td>Fr. Mike Schmitz Audio Teachings</td>\n",
       "      <td>FAMILY</td>\n",
       "      <td>5.0</td>\n",
       "      <td>4</td>\n",
       "      <td>3.6M</td>\n",
       "      <td>100+</td>\n",
       "      <td>Free</td>\n",
       "      <td>0</td>\n",
       "      <td>Everyone</td>\n",
       "      <td>Education</td>\n",
       "      <td>July 6, 2018</td>\n",
       "      <td>1.0</td>\n",
       "      <td>4.1 and up</td>\n",
       "    </tr>\n",
       "    <tr>\n",
       "      <th>10355</th>\n",
       "      <td>Parkinson Exercices FR</td>\n",
       "      <td>MEDICAL</td>\n",
       "      <td>NaN</td>\n",
       "      <td>3</td>\n",
       "      <td>9.5M</td>\n",
       "      <td>1,000+</td>\n",
       "      <td>Free</td>\n",
       "      <td>0</td>\n",
       "      <td>Everyone</td>\n",
       "      <td>Medical</td>\n",
       "      <td>January 20, 2017</td>\n",
       "      <td>1.0</td>\n",
       "      <td>2.2 and up</td>\n",
       "    </tr>\n",
       "    <tr>\n",
       "      <th>10356</th>\n",
       "      <td>The SCP Foundation DB fr nn5n</td>\n",
       "      <td>BOOKS_AND_REFERENCE</td>\n",
       "      <td>4.5</td>\n",
       "      <td>114</td>\n",
       "      <td>Varies with device</td>\n",
       "      <td>1,000+</td>\n",
       "      <td>Free</td>\n",
       "      <td>0</td>\n",
       "      <td>Mature 17+</td>\n",
       "      <td>Books &amp; Reference</td>\n",
       "      <td>January 19, 2015</td>\n",
       "      <td>Varies with device</td>\n",
       "      <td>Varies with device</td>\n",
       "    </tr>\n",
       "    <tr>\n",
       "      <th>10357</th>\n",
       "      <td>iHoroscope - 2018 Daily Horoscope &amp; Astrology</td>\n",
       "      <td>LIFESTYLE</td>\n",
       "      <td>4.5</td>\n",
       "      <td>398307</td>\n",
       "      <td>19M</td>\n",
       "      <td>10,000,000+</td>\n",
       "      <td>Free</td>\n",
       "      <td>0</td>\n",
       "      <td>Everyone</td>\n",
       "      <td>Lifestyle</td>\n",
       "      <td>July 25, 2018</td>\n",
       "      <td>Varies with device</td>\n",
       "      <td>Varies with device</td>\n",
       "    </tr>\n",
       "  </tbody>\n",
       "</table>\n",
       "<p>10358 rows × 13 columns</p>\n",
       "</div>"
      ],
      "text/plain": [
       "                                                     App             Category  \\\n",
       "0         Photo Editor & Candy Camera & Grid & ScrapBook       ART_AND_DESIGN   \n",
       "1                                    Coloring book moana       ART_AND_DESIGN   \n",
       "2      U Launcher Lite – FREE Live Cool Themes, Hide ...       ART_AND_DESIGN   \n",
       "3                                  Sketch - Draw & Paint       ART_AND_DESIGN   \n",
       "4                  Pixel Draw - Number Art Coloring Book       ART_AND_DESIGN   \n",
       "...                                                  ...                  ...   \n",
       "10353                                   Sya9a Maroc - FR               FAMILY   \n",
       "10354                   Fr. Mike Schmitz Audio Teachings               FAMILY   \n",
       "10355                             Parkinson Exercices FR              MEDICAL   \n",
       "10356                      The SCP Foundation DB fr nn5n  BOOKS_AND_REFERENCE   \n",
       "10357      iHoroscope - 2018 Daily Horoscope & Astrology            LIFESTYLE   \n",
       "\n",
       "       Rating Reviews                Size     Installs  Type Price  \\\n",
       "0         4.1     159                 19M      10,000+  Free     0   \n",
       "1         3.9     967                 14M     500,000+  Free     0   \n",
       "2         4.7   87510                8.7M   5,000,000+  Free     0   \n",
       "3         4.5  215644                 25M  50,000,000+  Free     0   \n",
       "4         4.3     967                2.8M     100,000+  Free     0   \n",
       "...       ...     ...                 ...          ...   ...   ...   \n",
       "10353     4.5      38                 53M       5,000+  Free     0   \n",
       "10354     5.0       4                3.6M         100+  Free     0   \n",
       "10355     NaN       3                9.5M       1,000+  Free     0   \n",
       "10356     4.5     114  Varies with device       1,000+  Free     0   \n",
       "10357     4.5  398307                 19M  10,000,000+  Free     0   \n",
       "\n",
       "      Content Rating                     Genres      Last Updated  \\\n",
       "0           Everyone               Art & Design   January 7, 2018   \n",
       "1           Everyone  Art & Design;Pretend Play  January 15, 2018   \n",
       "2           Everyone               Art & Design    August 1, 2018   \n",
       "3               Teen               Art & Design      June 8, 2018   \n",
       "4           Everyone    Art & Design;Creativity     June 20, 2018   \n",
       "...              ...                        ...               ...   \n",
       "10353       Everyone                  Education     July 25, 2017   \n",
       "10354       Everyone                  Education      July 6, 2018   \n",
       "10355       Everyone                    Medical  January 20, 2017   \n",
       "10356     Mature 17+          Books & Reference  January 19, 2015   \n",
       "10357       Everyone                  Lifestyle     July 25, 2018   \n",
       "\n",
       "              Current Ver         Android Ver  \n",
       "0                   1.0.0        4.0.3 and up  \n",
       "1                   2.0.0        4.0.3 and up  \n",
       "2                   1.2.4        4.0.3 and up  \n",
       "3      Varies with device          4.2 and up  \n",
       "4                     1.1          4.4 and up  \n",
       "...                   ...                 ...  \n",
       "10353                1.48          4.1 and up  \n",
       "10354                 1.0          4.1 and up  \n",
       "10355                 1.0          2.2 and up  \n",
       "10356  Varies with device  Varies with device  \n",
       "10357  Varies with device  Varies with device  \n",
       "\n",
       "[10358 rows x 13 columns]"
      ]
     },
     "execution_count": 233,
     "metadata": {},
     "output_type": "execute_result"
    }
   ],
   "source": [
    "df.drop_duplicates(keep='first',inplace=True)\n",
    "df.reset_index(drop=True)"
   ]
  },
  {
   "cell_type": "code",
   "execution_count": 234,
   "id": "9c809152",
   "metadata": {
    "ExecuteTime": {
     "end_time": "2023-04-23T13:05:14.974300Z",
     "start_time": "2023-04-23T13:05:14.947012Z"
    },
    "scrolled": true
   },
   "outputs": [
    {
     "data": {
      "text/plain": [
       "0"
      ]
     },
     "execution_count": 234,
     "metadata": {},
     "output_type": "execute_result"
    }
   ],
   "source": [
    "df.duplicated().sum()"
   ]
  },
  {
   "cell_type": "markdown",
   "id": "e9c2c34f",
   "metadata": {},
   "source": [
    "Duplicate values in the dataset have been dropped.\n",
    "***"
   ]
  },
  {
   "cell_type": "markdown",
   "id": "64ae9c6b",
   "metadata": {},
   "source": [
    "### 5.0 Check the unique categories of the column 'Category', Is there any invalid category? If yes, drop them."
   ]
  },
  {
   "cell_type": "code",
   "execution_count": 235,
   "id": "8f27bf06",
   "metadata": {
    "ExecuteTime": {
     "end_time": "2023-04-23T13:05:14.989826Z",
     "start_time": "2023-04-23T13:05:14.976298Z"
    },
    "scrolled": true
   },
   "outputs": [
    {
     "data": {
      "text/plain": [
       "array(['ART_AND_DESIGN', 'AUTO_AND_VEHICLES', 'BEAUTY',\n",
       "       'BOOKS_AND_REFERENCE', 'BUSINESS', 'COMICS', 'COMMUNICATION',\n",
       "       'DATING', 'EDUCATION', 'ENTERTAINMENT', 'EVENTS', 'FINANCE',\n",
       "       'FOOD_AND_DRINK', 'HEALTH_AND_FITNESS', 'HOUSE_AND_HOME',\n",
       "       'LIBRARIES_AND_DEMO', 'LIFESTYLE', 'GAME', 'FAMILY', 'MEDICAL',\n",
       "       'SOCIAL', 'SHOPPING', 'PHOTOGRAPHY', 'SPORTS', 'TRAVEL_AND_LOCAL',\n",
       "       'TOOLS', 'PERSONALIZATION', 'PRODUCTIVITY', 'PARENTING', 'WEATHER',\n",
       "       'VIDEO_PLAYERS', 'NEWS_AND_MAGAZINES', 'MAPS_AND_NAVIGATION',\n",
       "       '1.9'], dtype=object)"
      ]
     },
     "execution_count": 235,
     "metadata": {},
     "output_type": "execute_result"
    }
   ],
   "source": [
    "df['Category'].unique()"
   ]
  },
  {
   "cell_type": "code",
   "execution_count": 236,
   "id": "d593998e",
   "metadata": {
    "ExecuteTime": {
     "end_time": "2023-04-23T13:05:15.005408Z",
     "start_time": "2023-04-23T13:05:14.991820Z"
    }
   },
   "outputs": [],
   "source": [
    "invalid_cat = df[df['Category']=='1.9']"
   ]
  },
  {
   "cell_type": "code",
   "execution_count": 237,
   "id": "0bbb32f7",
   "metadata": {
    "ExecuteTime": {
     "end_time": "2023-04-23T13:05:15.020935Z",
     "start_time": "2023-04-23T13:05:15.007861Z"
    }
   },
   "outputs": [],
   "source": [
    "df.drop(invalid_cat.index,inplace=True)"
   ]
  },
  {
   "cell_type": "code",
   "execution_count": 238,
   "id": "e2b48e60",
   "metadata": {
    "ExecuteTime": {
     "end_time": "2023-04-23T13:05:15.036396Z",
     "start_time": "2023-04-23T13:05:15.021898Z"
    },
    "scrolled": true
   },
   "outputs": [
    {
     "data": {
      "text/plain": [
       "array(['ART_AND_DESIGN', 'AUTO_AND_VEHICLES', 'BEAUTY',\n",
       "       'BOOKS_AND_REFERENCE', 'BUSINESS', 'COMICS', 'COMMUNICATION',\n",
       "       'DATING', 'EDUCATION', 'ENTERTAINMENT', 'EVENTS', 'FINANCE',\n",
       "       'FOOD_AND_DRINK', 'HEALTH_AND_FITNESS', 'HOUSE_AND_HOME',\n",
       "       'LIBRARIES_AND_DEMO', 'LIFESTYLE', 'GAME', 'FAMILY', 'MEDICAL',\n",
       "       'SOCIAL', 'SHOPPING', 'PHOTOGRAPHY', 'SPORTS', 'TRAVEL_AND_LOCAL',\n",
       "       'TOOLS', 'PERSONALIZATION', 'PRODUCTIVITY', 'PARENTING', 'WEATHER',\n",
       "       'VIDEO_PLAYERS', 'NEWS_AND_MAGAZINES', 'MAPS_AND_NAVIGATION'],\n",
       "      dtype=object)"
      ]
     },
     "execution_count": 238,
     "metadata": {},
     "output_type": "execute_result"
    }
   ],
   "source": [
    "df['Category'].unique()"
   ]
  },
  {
   "cell_type": "markdown",
   "id": "4e18a995",
   "metadata": {},
   "source": [
    "There are several unique categories in the data, but **Category 1.9** is not a valid category , so category 1.9 has been removed."
   ]
  },
  {
   "cell_type": "markdown",
   "id": "04b677dd",
   "metadata": {},
   "source": [
    "***"
   ]
  },
  {
   "cell_type": "markdown",
   "id": "cc0ab730",
   "metadata": {},
   "source": [
    "### 6.0 Check if there are missing values present in the column Rating, If any? drop them and and create a new column as 'Rating_category' by converting ratings to high and low categories(>3.5 is high rest low)\n"
   ]
  },
  {
   "cell_type": "code",
   "execution_count": 239,
   "id": "db116d35",
   "metadata": {
    "ExecuteTime": {
     "end_time": "2023-04-23T13:05:15.067589Z",
     "start_time": "2023-04-23T13:05:15.038396Z"
    },
    "scrolled": true
   },
   "outputs": [
    {
     "data": {
      "text/plain": [
       "App                  0\n",
       "Category             0\n",
       "Rating            1465\n",
       "Reviews              0\n",
       "Size                 0\n",
       "Installs             0\n",
       "Type                 1\n",
       "Price                0\n",
       "Content Rating       0\n",
       "Genres               0\n",
       "Last Updated         0\n",
       "Current Ver          8\n",
       "Android Ver          2\n",
       "dtype: int64"
      ]
     },
     "execution_count": 239,
     "metadata": {},
     "output_type": "execute_result"
    }
   ],
   "source": [
    "df.isnull().sum()"
   ]
  },
  {
   "cell_type": "code",
   "execution_count": 240,
   "id": "e0b24a35",
   "metadata": {
    "ExecuteTime": {
     "end_time": "2023-04-23T13:05:15.083139Z",
     "start_time": "2023-04-23T13:05:15.069587Z"
    }
   },
   "outputs": [],
   "source": [
    "df.dropna(subset=['Rating'],inplace=True)"
   ]
  },
  {
   "cell_type": "code",
   "execution_count": 241,
   "id": "c8042bb5",
   "metadata": {
    "ExecuteTime": {
     "end_time": "2023-04-23T13:05:15.099183Z",
     "start_time": "2023-04-23T13:05:15.085670Z"
    }
   },
   "outputs": [
    {
     "data": {
      "text/plain": [
       "0"
      ]
     },
     "execution_count": 241,
     "metadata": {},
     "output_type": "execute_result"
    }
   ],
   "source": [
    "df['Rating'].isnull().sum()"
   ]
  },
  {
   "cell_type": "code",
   "execution_count": 242,
   "id": "94cc4a16",
   "metadata": {
    "ExecuteTime": {
     "end_time": "2023-04-23T13:05:15.114178Z",
     "start_time": "2023-04-23T13:05:15.104173Z"
    },
    "scrolled": false
   },
   "outputs": [],
   "source": [
    "def rating_cat(Rating):\n",
    "    if Rating > 3.5:\n",
    "        return'high'\n",
    "    else:\n",
    "        return'low'"
   ]
  },
  {
   "cell_type": "code",
   "execution_count": 243,
   "id": "c9261096",
   "metadata": {
    "ExecuteTime": {
     "end_time": "2023-04-23T13:05:15.129693Z",
     "start_time": "2023-04-23T13:05:15.119212Z"
    },
    "scrolled": true
   },
   "outputs": [],
   "source": [
    "df['Rating_category'] = df['Rating'].apply(rating_cat)"
   ]
  },
  {
   "cell_type": "code",
   "execution_count": 244,
   "id": "6c3180a1",
   "metadata": {
    "ExecuteTime": {
     "end_time": "2023-04-23T13:05:15.145548Z",
     "start_time": "2023-04-23T13:05:15.137289Z"
    },
    "scrolled": false
   },
   "outputs": [
    {
     "data": {
      "text/plain": [
       "0        high\n",
       "1        high\n",
       "2        high\n",
       "3        high\n",
       "4        high\n",
       "         ... \n",
       "10834    high\n",
       "10836    high\n",
       "10837    high\n",
       "10839    high\n",
       "10840    high\n",
       "Name: Rating_category, Length: 8892, dtype: object"
      ]
     },
     "execution_count": 244,
     "metadata": {},
     "output_type": "execute_result"
    }
   ],
   "source": [
    "df['Rating_category'] "
   ]
  },
  {
   "cell_type": "markdown",
   "id": "c3bbcfec",
   "metadata": {},
   "source": [
    "- null values in the column Rating is removed\n",
    "- new column rating_category is created with values oh 'High' or 'low' if the Ratings > 3.5 or <3.5 respectively.\n",
    "***"
   ]
  },
  {
   "cell_type": "markdown",
   "id": "d9d968fa",
   "metadata": {},
   "source": [
    "### 7.0 distribution of  'Rating_category'"
   ]
  },
  {
   "cell_type": "code",
   "execution_count": 245,
   "id": "9df99311",
   "metadata": {
    "ExecuteTime": {
     "end_time": "2023-04-23T13:05:15.161377Z",
     "start_time": "2023-04-23T13:05:15.147499Z"
    },
    "scrolled": true
   },
   "outputs": [
    {
     "data": {
      "text/plain": [
       "high    8012\n",
       "low      880\n",
       "Name: Rating_category, dtype: int64"
      ]
     },
     "execution_count": 245,
     "metadata": {},
     "output_type": "execute_result"
    }
   ],
   "source": [
    "df['Rating_category'].value_counts()"
   ]
  },
  {
   "cell_type": "code",
   "execution_count": 246,
   "id": "3df9a7db",
   "metadata": {
    "ExecuteTime": {
     "end_time": "2023-04-23T13:05:15.314579Z",
     "start_time": "2023-04-23T13:05:15.163372Z"
    }
   },
   "outputs": [
    {
     "data": {
      "image/png": "[encoded data removed]",
      "text/plain": [
       "<Figure size 640x480 with 1 Axes>"
      ]
     },
     "metadata": {},
     "output_type": "display_data"
    }
   ],
   "source": [
    "size = df['Rating_category'].value_counts()/len(df)*100\n",
    "plt.pie(size,labels=size.index,autopct='%1.1f%%', startangle=50,shadow = True, explode =( 0,0.2))\n",
    "plt.axis('equal')\n",
    "plt.title('distribution of Racing_category')\n",
    "plt.show()"
   ]
  },
  {
   "cell_type": "code",
   "execution_count": 247,
   "id": "8d1c9314",
   "metadata": {
    "ExecuteTime": {
     "end_time": "2023-04-23T13:05:15.592704Z",
     "start_time": "2023-04-23T13:05:15.319715Z"
    },
    "scrolled": false
   },
   "outputs": [
    {
     "data": {
      "image/png": "[encoded data removed]",
      "text/plain": [
       "<Figure size 500x500 with 1 Axes>"
      ]
     },
     "metadata": {},
     "output_type": "display_data"
    }
   ],
   "source": [
    "sns.displot(df['Rating_category'])\n",
    "plt.show()"
   ]
  },
  {
   "cell_type": "markdown",
   "id": "6135aa14",
   "metadata": {},
   "source": [
    "- Distribution of Rating_category can be seen in above plots.\n",
    "- 90% of the data has high rating (approx 8000)  and less that 10% (880) of the data has low ratings."
   ]
  },
  {
   "cell_type": "markdown",
   "id": "5b72724c",
   "metadata": {},
   "source": [
    "### 8.0 Convert the column \"Reviews'' to numeric data type and check the presence of outliers in the column and handle the outliers using a transformation approach."
   ]
  },
  {
   "cell_type": "code",
   "execution_count": 248,
   "id": "185d5b82",
   "metadata": {
    "ExecuteTime": {
     "end_time": "2023-04-23T13:05:15.608591Z",
     "start_time": "2023-04-23T13:05:15.595233Z"
    }
   },
   "outputs": [],
   "source": [
    "df['Reviews']=df['Reviews'].astype('float')"
   ]
  },
  {
   "cell_type": "code",
   "execution_count": 249,
   "id": "bf50af64",
   "metadata": {
    "ExecuteTime": {
     "end_time": "2023-04-23T13:05:15.734601Z",
     "start_time": "2023-04-23T13:05:15.610586Z"
    }
   },
   "outputs": [
    {
     "data": {
      "image/png": "[encoded data removed]",
      "text/plain": [
       "<Figure size 640x480 with 1 Axes>"
      ]
     },
     "metadata": {},
     "output_type": "display_data"
    }
   ],
   "source": [
    "plt.boxplot(df['Reviews'])\n",
    "plt.show()"
   ]
  },
  {
   "cell_type": "code",
   "execution_count": 250,
   "id": "75d7d963",
   "metadata": {
    "ExecuteTime": {
     "end_time": "2023-04-23T13:05:15.749637Z",
     "start_time": "2023-04-23T13:05:15.737603Z"
    }
   },
   "outputs": [],
   "source": [
    "df['Reviews_log'] = np.log1p(df['Reviews'])"
   ]
  },
  {
   "cell_type": "code",
   "execution_count": 251,
   "id": "a96d054c",
   "metadata": {
    "ExecuteTime": {
     "end_time": "2023-04-23T13:05:15.858134Z",
     "start_time": "2023-04-23T13:05:15.752627Z"
    },
    "scrolled": false
   },
   "outputs": [
    {
     "data": {
      "image/png": "[encoded data removed]",
      "text/plain": [
       "<Figure size 640x480 with 1 Axes>"
      ]
     },
     "metadata": {},
     "output_type": "display_data"
    }
   ],
   "source": [
    "plt.boxplot(df['Reviews_log'])\n",
    "plt.show()"
   ]
  },
  {
   "cell_type": "markdown",
   "id": "fa8d0939",
   "metadata": {},
   "source": [
    "- Data type of column Review is changed to float.\n",
    "- There are multiple outliers present in the Column.\n",
    "- Log transformation method is used to suppress the outliers.\n",
    "***"
   ]
  },
  {
   "cell_type": "markdown",
   "id": "889bebd0",
   "metadata": {},
   "source": [
    "### 9.0 Treating non numeric data in Column Size and converting to suitable data type."
   ]
  },
  {
   "cell_type": "code",
   "execution_count": 252,
   "id": "f10232ff",
   "metadata": {
    "ExecuteTime": {
     "end_time": "2023-04-23T13:05:15.874234Z",
     "start_time": "2023-04-23T13:05:15.862086Z"
    }
   },
   "outputs": [
    {
     "data": {
      "text/plain": [
       "6446                   1.0M\n",
       "9973                   1.0M\n",
       "10043                  1.0M\n",
       "8077                   1.0M\n",
       "8736                   1.1M\n",
       "                ...        \n",
       "8307     Varies with device\n",
       "3236     Varies with device\n",
       "3238     Varies with device\n",
       "8298     Varies with device\n",
       "3909     Varies with device\n",
       "Name: Size, Length: 8892, dtype: object"
      ]
     },
     "execution_count": 252,
     "metadata": {},
     "output_type": "execute_result"
    }
   ],
   "source": [
    "df['Size'].sort_values()"
   ]
  },
  {
   "cell_type": "code",
   "execution_count": 253,
   "id": "5ae601fe",
   "metadata": {
    "ExecuteTime": {
     "end_time": "2023-04-23T13:05:15.904589Z",
     "start_time": "2023-04-23T13:05:15.878235Z"
    }
   },
   "outputs": [],
   "source": [
    "df.drop(df[df['Size'] == 'Varies with device'].index,inplace=True)"
   ]
  },
  {
   "cell_type": "code",
   "execution_count": 254,
   "id": "7244f87b",
   "metadata": {
    "ExecuteTime": {
     "end_time": "2023-04-23T13:05:15.919701Z",
     "start_time": "2023-04-23T13:05:15.906680Z"
    },
    "scrolled": true
   },
   "outputs": [
    {
     "data": {
      "text/plain": [
       "0         19M\n",
       "1         14M\n",
       "2        8.7M\n",
       "3         25M\n",
       "4        2.8M\n",
       "         ... \n",
       "10833    619k\n",
       "10834    2.6M\n",
       "10836     53M\n",
       "10837    3.6M\n",
       "10840     19M\n",
       "Name: Size, Length: 7424, dtype: object"
      ]
     },
     "execution_count": 254,
     "metadata": {},
     "output_type": "execute_result"
    }
   ],
   "source": [
    "df['Size']"
   ]
  },
  {
   "cell_type": "code",
   "execution_count": 255,
   "id": "8c2ba95a",
   "metadata": {
    "ExecuteTime": {
     "end_time": "2023-04-23T13:05:15.966959Z",
     "start_time": "2023-04-23T13:05:15.922702Z"
    }
   },
   "outputs": [],
   "source": [
    "df['Size'].replace({'M':'*1000000','k':'*1000'},regex = True,inplace=True)"
   ]
  },
  {
   "cell_type": "code",
   "execution_count": 256,
   "id": "cbfd2cac",
   "metadata": {
    "ExecuteTime": {
     "end_time": "2023-04-23T13:05:16.029191Z",
     "start_time": "2023-04-23T13:05:15.972949Z"
    }
   },
   "outputs": [],
   "source": [
    "df['Size'] = df['Size'].map(eval)"
   ]
  },
  {
   "cell_type": "code",
   "execution_count": 257,
   "id": "83e055ff",
   "metadata": {
    "ExecuteTime": {
     "end_time": "2023-04-23T13:05:16.044622Z",
     "start_time": "2023-04-23T13:05:16.034182Z"
    },
    "scrolled": false
   },
   "outputs": [
    {
     "data": {
      "text/plain": [
       "0        19000000.0\n",
       "1        14000000.0\n",
       "2         8700000.0\n",
       "3        25000000.0\n",
       "4         2800000.0\n",
       "            ...    \n",
       "10833      619000.0\n",
       "10834     2600000.0\n",
       "10836    53000000.0\n",
       "10837     3600000.0\n",
       "10840    19000000.0\n",
       "Name: Size, Length: 7424, dtype: float64"
      ]
     },
     "execution_count": 257,
     "metadata": {},
     "output_type": "execute_result"
    }
   ],
   "source": [
    "df['Size']"
   ]
  },
  {
   "cell_type": "markdown",
   "id": "2dd920ea",
   "metadata": {},
   "source": [
    "* Non numeric characters in the column Size is removed and the datatype of the column is converted to float.\n",
    "***"
   ]
  },
  {
   "cell_type": "markdown",
   "id": "fdeaf19a",
   "metadata": {},
   "source": [
    "### 10.0 Column 'Installs'."
   ]
  },
  {
   "cell_type": "code",
   "execution_count": 258,
   "id": "4512823c",
   "metadata": {
    "ExecuteTime": {
     "end_time": "2023-04-23T13:05:16.060402Z",
     "start_time": "2023-04-23T13:05:16.049643Z"
    }
   },
   "outputs": [
    {
     "data": {
      "text/plain": [
       "0            10,000+\n",
       "1           500,000+\n",
       "2         5,000,000+\n",
       "3        50,000,000+\n",
       "4           100,000+\n",
       "            ...     \n",
       "10833         1,000+\n",
       "10834           500+\n",
       "10836         5,000+\n",
       "10837           100+\n",
       "10840    10,000,000+\n",
       "Name: Installs, Length: 7424, dtype: object"
      ]
     },
     "execution_count": 258,
     "metadata": {},
     "output_type": "execute_result"
    }
   ],
   "source": [
    "df['Installs']"
   ]
  },
  {
   "cell_type": "code",
   "execution_count": 259,
   "id": "8b76f0f3",
   "metadata": {
    "ExecuteTime": {
     "end_time": "2023-04-23T13:05:16.092238Z",
     "start_time": "2023-04-23T13:05:16.063393Z"
    },
    "scrolled": true
   },
   "outputs": [
    {
     "name": "stderr",
     "output_type": "stream",
     "text": [
      "C:\\Users\\bhara\\AppData\\Local\\Temp\\ipykernel_13188\\1371051915.py:1: FutureWarning: The default value of regex will change from True to False in a future version. In addition, single character regular expressions will *not* be treated as literal strings when regex=True.\n",
      "  df['Installs'] = df['Installs'].str.replace('+','').str.replace(',','').astype('int')\n"
     ]
    },
    {
     "data": {
      "text/plain": [
       "0           10000\n",
       "1          500000\n",
       "2         5000000\n",
       "3        50000000\n",
       "4          100000\n",
       "           ...   \n",
       "10833        1000\n",
       "10834         500\n",
       "10836        5000\n",
       "10837         100\n",
       "10840    10000000\n",
       "Name: Installs, Length: 7424, dtype: int32"
      ]
     },
     "execution_count": 259,
     "metadata": {},
     "output_type": "execute_result"
    }
   ],
   "source": [
    "df['Installs'] = df['Installs'].str.replace('+','').str.replace(',','').astype('int')\n",
    "df['Installs']"
   ]
  },
  {
   "cell_type": "markdown",
   "id": "8478544f",
   "metadata": {},
   "source": [
    "* non numeric characters in the column Installs is removed and the datatype of the column is converted to int.\n",
    "***"
   ]
  },
  {
   "cell_type": "markdown",
   "id": "c734441b",
   "metadata": {},
   "source": [
    "### 11.0 column 'Price'."
   ]
  },
  {
   "cell_type": "code",
   "execution_count": 260,
   "id": "fbc8b88e",
   "metadata": {
    "ExecuteTime": {
     "end_time": "2023-04-23T13:05:16.124287Z",
     "start_time": "2023-04-23T13:05:16.096380Z"
    }
   },
   "outputs": [
    {
     "data": {
      "text/plain": [
       "10675    $0.99\n",
       "9060     $0.99\n",
       "8012     $0.99\n",
       "7665     $0.99\n",
       "4621     $0.99\n",
       "         ...  \n",
       "4014         0\n",
       "4013         0\n",
       "4012         0\n",
       "4023         0\n",
       "10840        0\n",
       "Name: Price, Length: 7424, dtype: object"
      ]
     },
     "execution_count": 260,
     "metadata": {},
     "output_type": "execute_result"
    }
   ],
   "source": [
    "df['Price'].sort_values()"
   ]
  },
  {
   "cell_type": "code",
   "execution_count": 261,
   "id": "a09bd52d",
   "metadata": {
    "ExecuteTime": {
     "end_time": "2023-04-23T13:05:16.156398Z",
     "start_time": "2023-04-23T13:05:16.130287Z"
    }
   },
   "outputs": [
    {
     "name": "stderr",
     "output_type": "stream",
     "text": [
      "C:\\Users\\bhara\\AppData\\Local\\Temp\\ipykernel_13188\\3004727282.py:1: FutureWarning: The default value of regex will change from True to False in a future version. In addition, single character regular expressions will *not* be treated as literal strings when regex=True.\n",
      "  df['Price']=df['Price'].str.replace('$','')\n"
     ]
    }
   ],
   "source": [
    "df['Price']=df['Price'].str.replace('$','')"
   ]
  },
  {
   "cell_type": "code",
   "execution_count": 262,
   "id": "c26baff3",
   "metadata": {
    "ExecuteTime": {
     "end_time": "2023-04-23T13:05:16.172243Z",
     "start_time": "2023-04-23T13:05:16.157399Z"
    }
   },
   "outputs": [
    {
     "data": {
      "text/plain": [
       "0         0.00\n",
       "7291      0.00\n",
       "7290      0.00\n",
       "7289      0.00\n",
       "7288      0.00\n",
       "         ...  \n",
       "5354    399.99\n",
       "5356    399.99\n",
       "5362    399.99\n",
       "4197    399.99\n",
       "4367    400.00\n",
       "Name: Price, Length: 7424, dtype: float64"
      ]
     },
     "execution_count": 262,
     "metadata": {},
     "output_type": "execute_result"
    }
   ],
   "source": [
    "df['Price'] = df['Price'].astype('float')\n",
    "df['Price'].sort_values()"
   ]
  },
  {
   "cell_type": "markdown",
   "id": "a7e7224e",
   "metadata": {
    "ExecuteTime": {
     "end_time": "2023-04-22T06:52:03.305221Z",
     "start_time": "2023-04-22T06:52:03.278618Z"
    }
   },
   "source": [
    "* non numeric characters in the column Price is removed and the datatype of the column is converted to float.\n",
    "***"
   ]
  },
  {
   "cell_type": "markdown",
   "id": "0dbe6a28",
   "metadata": {},
   "source": [
    "### 12. Dropping columns which are redundant for analysis."
   ]
  },
  {
   "cell_type": "code",
   "execution_count": 263,
   "id": "6eee88f5",
   "metadata": {
    "ExecuteTime": {
     "end_time": "2023-04-23T13:05:16.188272Z",
     "start_time": "2023-04-23T13:05:16.175745Z"
    }
   },
   "outputs": [],
   "source": [
    "df.drop(columns=['Rating','Reviews','App','Last Updated','Current Ver','Android Ver'],inplace=True)"
   ]
  },
  {
   "cell_type": "code",
   "execution_count": 264,
   "id": "437450aa",
   "metadata": {
    "ExecuteTime": {
     "end_time": "2023-04-23T13:05:16.219834Z",
     "start_time": "2023-04-23T13:05:16.191254Z"
    }
   },
   "outputs": [
    {
     "data": {
      "text/html": [
       "<div>\n",
       "<style scoped>\n",
       "    .dataframe tbody tr th:only-of-type {\n",
       "        vertical-align: middle;\n",
       "    }\n",
       "\n",
       "    .dataframe tbody tr th {\n",
       "        vertical-align: top;\n",
       "    }\n",
       "\n",
       "    .dataframe thead th {\n",
       "        text-align: right;\n",
       "    }\n",
       "</style>\n",
       "<table border=\"1\" class=\"dataframe\">\n",
       "  <thead>\n",
       "    <tr style=\"text-align: right;\">\n",
       "      <th></th>\n",
       "      <th>Category</th>\n",
       "      <th>Size</th>\n",
       "      <th>Installs</th>\n",
       "      <th>Type</th>\n",
       "      <th>Price</th>\n",
       "      <th>Content Rating</th>\n",
       "      <th>Genres</th>\n",
       "      <th>Rating_category</th>\n",
       "      <th>Reviews_log</th>\n",
       "    </tr>\n",
       "  </thead>\n",
       "  <tbody>\n",
       "    <tr>\n",
       "      <th>0</th>\n",
       "      <td>ART_AND_DESIGN</td>\n",
       "      <td>19000000.0</td>\n",
       "      <td>10000</td>\n",
       "      <td>Free</td>\n",
       "      <td>0.0</td>\n",
       "      <td>Everyone</td>\n",
       "      <td>Art &amp; Design</td>\n",
       "      <td>high</td>\n",
       "      <td>5.075174</td>\n",
       "    </tr>\n",
       "    <tr>\n",
       "      <th>1</th>\n",
       "      <td>ART_AND_DESIGN</td>\n",
       "      <td>14000000.0</td>\n",
       "      <td>500000</td>\n",
       "      <td>Free</td>\n",
       "      <td>0.0</td>\n",
       "      <td>Everyone</td>\n",
       "      <td>Art &amp; Design;Pretend Play</td>\n",
       "      <td>high</td>\n",
       "      <td>6.875232</td>\n",
       "    </tr>\n",
       "    <tr>\n",
       "      <th>2</th>\n",
       "      <td>ART_AND_DESIGN</td>\n",
       "      <td>8700000.0</td>\n",
       "      <td>5000000</td>\n",
       "      <td>Free</td>\n",
       "      <td>0.0</td>\n",
       "      <td>Everyone</td>\n",
       "      <td>Art &amp; Design</td>\n",
       "      <td>high</td>\n",
       "      <td>11.379520</td>\n",
       "    </tr>\n",
       "    <tr>\n",
       "      <th>3</th>\n",
       "      <td>ART_AND_DESIGN</td>\n",
       "      <td>25000000.0</td>\n",
       "      <td>50000000</td>\n",
       "      <td>Free</td>\n",
       "      <td>0.0</td>\n",
       "      <td>Teen</td>\n",
       "      <td>Art &amp; Design</td>\n",
       "      <td>high</td>\n",
       "      <td>12.281389</td>\n",
       "    </tr>\n",
       "    <tr>\n",
       "      <th>4</th>\n",
       "      <td>ART_AND_DESIGN</td>\n",
       "      <td>2800000.0</td>\n",
       "      <td>100000</td>\n",
       "      <td>Free</td>\n",
       "      <td>0.0</td>\n",
       "      <td>Everyone</td>\n",
       "      <td>Art &amp; Design;Creativity</td>\n",
       "      <td>high</td>\n",
       "      <td>6.875232</td>\n",
       "    </tr>\n",
       "    <tr>\n",
       "      <th>...</th>\n",
       "      <td>...</td>\n",
       "      <td>...</td>\n",
       "      <td>...</td>\n",
       "      <td>...</td>\n",
       "      <td>...</td>\n",
       "      <td>...</td>\n",
       "      <td>...</td>\n",
       "      <td>...</td>\n",
       "      <td>...</td>\n",
       "    </tr>\n",
       "    <tr>\n",
       "      <th>10833</th>\n",
       "      <td>BOOKS_AND_REFERENCE</td>\n",
       "      <td>619000.0</td>\n",
       "      <td>1000</td>\n",
       "      <td>Free</td>\n",
       "      <td>0.0</td>\n",
       "      <td>Everyone</td>\n",
       "      <td>Books &amp; Reference</td>\n",
       "      <td>high</td>\n",
       "      <td>3.806662</td>\n",
       "    </tr>\n",
       "    <tr>\n",
       "      <th>10834</th>\n",
       "      <td>FAMILY</td>\n",
       "      <td>2600000.0</td>\n",
       "      <td>500</td>\n",
       "      <td>Free</td>\n",
       "      <td>0.0</td>\n",
       "      <td>Everyone</td>\n",
       "      <td>Education</td>\n",
       "      <td>high</td>\n",
       "      <td>2.079442</td>\n",
       "    </tr>\n",
       "    <tr>\n",
       "      <th>10836</th>\n",
       "      <td>FAMILY</td>\n",
       "      <td>53000000.0</td>\n",
       "      <td>5000</td>\n",
       "      <td>Free</td>\n",
       "      <td>0.0</td>\n",
       "      <td>Everyone</td>\n",
       "      <td>Education</td>\n",
       "      <td>high</td>\n",
       "      <td>3.663562</td>\n",
       "    </tr>\n",
       "    <tr>\n",
       "      <th>10837</th>\n",
       "      <td>FAMILY</td>\n",
       "      <td>3600000.0</td>\n",
       "      <td>100</td>\n",
       "      <td>Free</td>\n",
       "      <td>0.0</td>\n",
       "      <td>Everyone</td>\n",
       "      <td>Education</td>\n",
       "      <td>high</td>\n",
       "      <td>1.609438</td>\n",
       "    </tr>\n",
       "    <tr>\n",
       "      <th>10840</th>\n",
       "      <td>LIFESTYLE</td>\n",
       "      <td>19000000.0</td>\n",
       "      <td>10000000</td>\n",
       "      <td>Free</td>\n",
       "      <td>0.0</td>\n",
       "      <td>Everyone</td>\n",
       "      <td>Lifestyle</td>\n",
       "      <td>high</td>\n",
       "      <td>12.894981</td>\n",
       "    </tr>\n",
       "  </tbody>\n",
       "</table>\n",
       "<p>7424 rows × 9 columns</p>\n",
       "</div>"
      ],
      "text/plain": [
       "                  Category        Size  Installs  Type  Price Content Rating  \\\n",
       "0           ART_AND_DESIGN  19000000.0     10000  Free    0.0       Everyone   \n",
       "1           ART_AND_DESIGN  14000000.0    500000  Free    0.0       Everyone   \n",
       "2           ART_AND_DESIGN   8700000.0   5000000  Free    0.0       Everyone   \n",
       "3           ART_AND_DESIGN  25000000.0  50000000  Free    0.0           Teen   \n",
       "4           ART_AND_DESIGN   2800000.0    100000  Free    0.0       Everyone   \n",
       "...                    ...         ...       ...   ...    ...            ...   \n",
       "10833  BOOKS_AND_REFERENCE    619000.0      1000  Free    0.0       Everyone   \n",
       "10834               FAMILY   2600000.0       500  Free    0.0       Everyone   \n",
       "10836               FAMILY  53000000.0      5000  Free    0.0       Everyone   \n",
       "10837               FAMILY   3600000.0       100  Free    0.0       Everyone   \n",
       "10840            LIFESTYLE  19000000.0  10000000  Free    0.0       Everyone   \n",
       "\n",
       "                          Genres Rating_category  Reviews_log  \n",
       "0                   Art & Design            high     5.075174  \n",
       "1      Art & Design;Pretend Play            high     6.875232  \n",
       "2                   Art & Design            high    11.379520  \n",
       "3                   Art & Design            high    12.281389  \n",
       "4        Art & Design;Creativity            high     6.875232  \n",
       "...                          ...             ...          ...  \n",
       "10833          Books & Reference            high     3.806662  \n",
       "10834                  Education            high     2.079442  \n",
       "10836                  Education            high     3.663562  \n",
       "10837                  Education            high     1.609438  \n",
       "10840                  Lifestyle            high    12.894981  \n",
       "\n",
       "[7424 rows x 9 columns]"
      ]
     },
     "execution_count": 264,
     "metadata": {},
     "output_type": "execute_result"
    }
   ],
   "source": [
    "df"
   ]
  },
  {
   "cell_type": "markdown",
   "id": "27209457",
   "metadata": {},
   "source": [
    "- Unnecessary columns like 'App','Last Updated','Current Ver','Android Ver' .etc  in the data is removed \n",
    "***"
   ]
  },
  {
   "cell_type": "markdown",
   "id": "d5abec96",
   "metadata": {},
   "source": [
    "### 13.0 Encoding categorical columns"
   ]
  },
  {
   "cell_type": "code",
   "execution_count": 265,
   "id": "14538278",
   "metadata": {
    "ExecuteTime": {
     "end_time": "2023-04-23T13:05:16.267061Z",
     "start_time": "2023-04-23T13:05:16.221826Z"
    }
   },
   "outputs": [],
   "source": [
    "from sklearn.preprocessing import LabelEncoder\n",
    "le = LabelEncoder()\n",
    "df['Category'] = le.fit_transform(df['Category'])\n",
    "df['Type'] = le.fit_transform(df['Type'])\n",
    "df['Content Rating'] = le.fit_transform(df['Content Rating'])\n",
    "df['Genres'] = le.fit_transform(df['Genres'])\n",
    "df['Rating_category'] = le.fit_transform(df['Rating_category'])"
   ]
  },
  {
   "cell_type": "code",
   "execution_count": 266,
   "id": "ef380fa2",
   "metadata": {
    "ExecuteTime": {
     "end_time": "2023-04-23T13:05:16.328790Z",
     "start_time": "2023-04-23T13:05:16.275591Z"
    }
   },
   "outputs": [
    {
     "data": {
      "text/html": [
       "<div>\n",
       "<style scoped>\n",
       "    .dataframe tbody tr th:only-of-type {\n",
       "        vertical-align: middle;\n",
       "    }\n",
       "\n",
       "    .dataframe tbody tr th {\n",
       "        vertical-align: top;\n",
       "    }\n",
       "\n",
       "    .dataframe thead th {\n",
       "        text-align: right;\n",
       "    }\n",
       "</style>\n",
       "<table border=\"1\" class=\"dataframe\">\n",
       "  <thead>\n",
       "    <tr style=\"text-align: right;\">\n",
       "      <th></th>\n",
       "      <th>Category</th>\n",
       "      <th>Size</th>\n",
       "      <th>Installs</th>\n",
       "      <th>Type</th>\n",
       "      <th>Price</th>\n",
       "      <th>Content Rating</th>\n",
       "      <th>Genres</th>\n",
       "      <th>Rating_category</th>\n",
       "      <th>Reviews_log</th>\n",
       "    </tr>\n",
       "  </thead>\n",
       "  <tbody>\n",
       "    <tr>\n",
       "      <th>0</th>\n",
       "      <td>0</td>\n",
       "      <td>19000000.0</td>\n",
       "      <td>10000</td>\n",
       "      <td>0</td>\n",
       "      <td>0.0</td>\n",
       "      <td>1</td>\n",
       "      <td>9</td>\n",
       "      <td>0</td>\n",
       "      <td>5.075174</td>\n",
       "    </tr>\n",
       "    <tr>\n",
       "      <th>1</th>\n",
       "      <td>0</td>\n",
       "      <td>14000000.0</td>\n",
       "      <td>500000</td>\n",
       "      <td>0</td>\n",
       "      <td>0.0</td>\n",
       "      <td>1</td>\n",
       "      <td>11</td>\n",
       "      <td>0</td>\n",
       "      <td>6.875232</td>\n",
       "    </tr>\n",
       "    <tr>\n",
       "      <th>2</th>\n",
       "      <td>0</td>\n",
       "      <td>8700000.0</td>\n",
       "      <td>5000000</td>\n",
       "      <td>0</td>\n",
       "      <td>0.0</td>\n",
       "      <td>1</td>\n",
       "      <td>9</td>\n",
       "      <td>0</td>\n",
       "      <td>11.379520</td>\n",
       "    </tr>\n",
       "    <tr>\n",
       "      <th>3</th>\n",
       "      <td>0</td>\n",
       "      <td>25000000.0</td>\n",
       "      <td>50000000</td>\n",
       "      <td>0</td>\n",
       "      <td>0.0</td>\n",
       "      <td>4</td>\n",
       "      <td>9</td>\n",
       "      <td>0</td>\n",
       "      <td>12.281389</td>\n",
       "    </tr>\n",
       "    <tr>\n",
       "      <th>4</th>\n",
       "      <td>0</td>\n",
       "      <td>2800000.0</td>\n",
       "      <td>100000</td>\n",
       "      <td>0</td>\n",
       "      <td>0.0</td>\n",
       "      <td>1</td>\n",
       "      <td>10</td>\n",
       "      <td>0</td>\n",
       "      <td>6.875232</td>\n",
       "    </tr>\n",
       "    <tr>\n",
       "      <th>...</th>\n",
       "      <td>...</td>\n",
       "      <td>...</td>\n",
       "      <td>...</td>\n",
       "      <td>...</td>\n",
       "      <td>...</td>\n",
       "      <td>...</td>\n",
       "      <td>...</td>\n",
       "      <td>...</td>\n",
       "      <td>...</td>\n",
       "    </tr>\n",
       "    <tr>\n",
       "      <th>10833</th>\n",
       "      <td>3</td>\n",
       "      <td>619000.0</td>\n",
       "      <td>1000</td>\n",
       "      <td>0</td>\n",
       "      <td>0.0</td>\n",
       "      <td>1</td>\n",
       "      <td>18</td>\n",
       "      <td>0</td>\n",
       "      <td>3.806662</td>\n",
       "    </tr>\n",
       "    <tr>\n",
       "      <th>10834</th>\n",
       "      <td>11</td>\n",
       "      <td>2600000.0</td>\n",
       "      <td>500</td>\n",
       "      <td>0</td>\n",
       "      <td>0.0</td>\n",
       "      <td>1</td>\n",
       "      <td>36</td>\n",
       "      <td>0</td>\n",
       "      <td>2.079442</td>\n",
       "    </tr>\n",
       "    <tr>\n",
       "      <th>10836</th>\n",
       "      <td>11</td>\n",
       "      <td>53000000.0</td>\n",
       "      <td>5000</td>\n",
       "      <td>0</td>\n",
       "      <td>0.0</td>\n",
       "      <td>1</td>\n",
       "      <td>36</td>\n",
       "      <td>0</td>\n",
       "      <td>3.663562</td>\n",
       "    </tr>\n",
       "    <tr>\n",
       "      <th>10837</th>\n",
       "      <td>11</td>\n",
       "      <td>3600000.0</td>\n",
       "      <td>100</td>\n",
       "      <td>0</td>\n",
       "      <td>0.0</td>\n",
       "      <td>1</td>\n",
       "      <td>36</td>\n",
       "      <td>0</td>\n",
       "      <td>1.609438</td>\n",
       "    </tr>\n",
       "    <tr>\n",
       "      <th>10840</th>\n",
       "      <td>18</td>\n",
       "      <td>19000000.0</td>\n",
       "      <td>10000000</td>\n",
       "      <td>0</td>\n",
       "      <td>0.0</td>\n",
       "      <td>1</td>\n",
       "      <td>64</td>\n",
       "      <td>0</td>\n",
       "      <td>12.894981</td>\n",
       "    </tr>\n",
       "  </tbody>\n",
       "</table>\n",
       "<p>7424 rows × 9 columns</p>\n",
       "</div>"
      ],
      "text/plain": [
       "       Category        Size  Installs  Type  Price  Content Rating  Genres  \\\n",
       "0             0  19000000.0     10000     0    0.0               1       9   \n",
       "1             0  14000000.0    500000     0    0.0               1      11   \n",
       "2             0   8700000.0   5000000     0    0.0               1       9   \n",
       "3             0  25000000.0  50000000     0    0.0               4       9   \n",
       "4             0   2800000.0    100000     0    0.0               1      10   \n",
       "...         ...         ...       ...   ...    ...             ...     ...   \n",
       "10833         3    619000.0      1000     0    0.0               1      18   \n",
       "10834        11   2600000.0       500     0    0.0               1      36   \n",
       "10836        11  53000000.0      5000     0    0.0               1      36   \n",
       "10837        11   3600000.0       100     0    0.0               1      36   \n",
       "10840        18  19000000.0  10000000     0    0.0               1      64   \n",
       "\n",
       "       Rating_category  Reviews_log  \n",
       "0                    0     5.075174  \n",
       "1                    0     6.875232  \n",
       "2                    0    11.379520  \n",
       "3                    0    12.281389  \n",
       "4                    0     6.875232  \n",
       "...                ...          ...  \n",
       "10833                0     3.806662  \n",
       "10834                0     2.079442  \n",
       "10836                0     3.663562  \n",
       "10837                0     1.609438  \n",
       "10840                0    12.894981  \n",
       "\n",
       "[7424 rows x 9 columns]"
      ]
     },
     "execution_count": 266,
     "metadata": {},
     "output_type": "execute_result"
    }
   ],
   "source": [
    "df"
   ]
  },
  {
   "cell_type": "markdown",
   "id": "2aecba32",
   "metadata": {},
   "source": [
    "- Categorical variables in the data like Category, Type, Content Rating, etc is encoded using label encoder.\n",
    "***"
   ]
  },
  {
   "cell_type": "markdown",
   "id": "5ba7bd09",
   "metadata": {},
   "source": [
    "### 14.0  Segregate the target and independent features"
   ]
  },
  {
   "cell_type": "code",
   "execution_count": 267,
   "id": "3765d3a6",
   "metadata": {
    "ExecuteTime": {
     "end_time": "2023-04-23T13:05:16.359914Z",
     "start_time": "2023-04-23T13:05:16.332786Z"
    }
   },
   "outputs": [
    {
     "data": {
      "text/html": [
       "<div>\n",
       "<style scoped>\n",
       "    .dataframe tbody tr th:only-of-type {\n",
       "        vertical-align: middle;\n",
       "    }\n",
       "\n",
       "    .dataframe tbody tr th {\n",
       "        vertical-align: top;\n",
       "    }\n",
       "\n",
       "    .dataframe thead th {\n",
       "        text-align: right;\n",
       "    }\n",
       "</style>\n",
       "<table border=\"1\" class=\"dataframe\">\n",
       "  <thead>\n",
       "    <tr style=\"text-align: right;\">\n",
       "      <th></th>\n",
       "      <th>Category</th>\n",
       "      <th>Size</th>\n",
       "      <th>Installs</th>\n",
       "      <th>Type</th>\n",
       "      <th>Price</th>\n",
       "      <th>Content Rating</th>\n",
       "      <th>Genres</th>\n",
       "      <th>Reviews_log</th>\n",
       "    </tr>\n",
       "  </thead>\n",
       "  <tbody>\n",
       "    <tr>\n",
       "      <th>0</th>\n",
       "      <td>0</td>\n",
       "      <td>19000000.0</td>\n",
       "      <td>10000</td>\n",
       "      <td>0</td>\n",
       "      <td>0.0</td>\n",
       "      <td>1</td>\n",
       "      <td>9</td>\n",
       "      <td>5.075174</td>\n",
       "    </tr>\n",
       "    <tr>\n",
       "      <th>1</th>\n",
       "      <td>0</td>\n",
       "      <td>14000000.0</td>\n",
       "      <td>500000</td>\n",
       "      <td>0</td>\n",
       "      <td>0.0</td>\n",
       "      <td>1</td>\n",
       "      <td>11</td>\n",
       "      <td>6.875232</td>\n",
       "    </tr>\n",
       "    <tr>\n",
       "      <th>2</th>\n",
       "      <td>0</td>\n",
       "      <td>8700000.0</td>\n",
       "      <td>5000000</td>\n",
       "      <td>0</td>\n",
       "      <td>0.0</td>\n",
       "      <td>1</td>\n",
       "      <td>9</td>\n",
       "      <td>11.379520</td>\n",
       "    </tr>\n",
       "    <tr>\n",
       "      <th>3</th>\n",
       "      <td>0</td>\n",
       "      <td>25000000.0</td>\n",
       "      <td>50000000</td>\n",
       "      <td>0</td>\n",
       "      <td>0.0</td>\n",
       "      <td>4</td>\n",
       "      <td>9</td>\n",
       "      <td>12.281389</td>\n",
       "    </tr>\n",
       "    <tr>\n",
       "      <th>4</th>\n",
       "      <td>0</td>\n",
       "      <td>2800000.0</td>\n",
       "      <td>100000</td>\n",
       "      <td>0</td>\n",
       "      <td>0.0</td>\n",
       "      <td>1</td>\n",
       "      <td>10</td>\n",
       "      <td>6.875232</td>\n",
       "    </tr>\n",
       "    <tr>\n",
       "      <th>...</th>\n",
       "      <td>...</td>\n",
       "      <td>...</td>\n",
       "      <td>...</td>\n",
       "      <td>...</td>\n",
       "      <td>...</td>\n",
       "      <td>...</td>\n",
       "      <td>...</td>\n",
       "      <td>...</td>\n",
       "    </tr>\n",
       "    <tr>\n",
       "      <th>10833</th>\n",
       "      <td>3</td>\n",
       "      <td>619000.0</td>\n",
       "      <td>1000</td>\n",
       "      <td>0</td>\n",
       "      <td>0.0</td>\n",
       "      <td>1</td>\n",
       "      <td>18</td>\n",
       "      <td>3.806662</td>\n",
       "    </tr>\n",
       "    <tr>\n",
       "      <th>10834</th>\n",
       "      <td>11</td>\n",
       "      <td>2600000.0</td>\n",
       "      <td>500</td>\n",
       "      <td>0</td>\n",
       "      <td>0.0</td>\n",
       "      <td>1</td>\n",
       "      <td>36</td>\n",
       "      <td>2.079442</td>\n",
       "    </tr>\n",
       "    <tr>\n",
       "      <th>10836</th>\n",
       "      <td>11</td>\n",
       "      <td>53000000.0</td>\n",
       "      <td>5000</td>\n",
       "      <td>0</td>\n",
       "      <td>0.0</td>\n",
       "      <td>1</td>\n",
       "      <td>36</td>\n",
       "      <td>3.663562</td>\n",
       "    </tr>\n",
       "    <tr>\n",
       "      <th>10837</th>\n",
       "      <td>11</td>\n",
       "      <td>3600000.0</td>\n",
       "      <td>100</td>\n",
       "      <td>0</td>\n",
       "      <td>0.0</td>\n",
       "      <td>1</td>\n",
       "      <td>36</td>\n",
       "      <td>1.609438</td>\n",
       "    </tr>\n",
       "    <tr>\n",
       "      <th>10840</th>\n",
       "      <td>18</td>\n",
       "      <td>19000000.0</td>\n",
       "      <td>10000000</td>\n",
       "      <td>0</td>\n",
       "      <td>0.0</td>\n",
       "      <td>1</td>\n",
       "      <td>64</td>\n",
       "      <td>12.894981</td>\n",
       "    </tr>\n",
       "  </tbody>\n",
       "</table>\n",
       "<p>7424 rows × 8 columns</p>\n",
       "</div>"
      ],
      "text/plain": [
       "       Category        Size  Installs  Type  Price  Content Rating  Genres  \\\n",
       "0             0  19000000.0     10000     0    0.0               1       9   \n",
       "1             0  14000000.0    500000     0    0.0               1      11   \n",
       "2             0   8700000.0   5000000     0    0.0               1       9   \n",
       "3             0  25000000.0  50000000     0    0.0               4       9   \n",
       "4             0   2800000.0    100000     0    0.0               1      10   \n",
       "...         ...         ...       ...   ...    ...             ...     ...   \n",
       "10833         3    619000.0      1000     0    0.0               1      18   \n",
       "10834        11   2600000.0       500     0    0.0               1      36   \n",
       "10836        11  53000000.0      5000     0    0.0               1      36   \n",
       "10837        11   3600000.0       100     0    0.0               1      36   \n",
       "10840        18  19000000.0  10000000     0    0.0               1      64   \n",
       "\n",
       "       Reviews_log  \n",
       "0         5.075174  \n",
       "1         6.875232  \n",
       "2        11.379520  \n",
       "3        12.281389  \n",
       "4         6.875232  \n",
       "...            ...  \n",
       "10833     3.806662  \n",
       "10834     2.079442  \n",
       "10836     3.663562  \n",
       "10837     1.609438  \n",
       "10840    12.894981  \n",
       "\n",
       "[7424 rows x 8 columns]"
      ]
     },
     "execution_count": 267,
     "metadata": {},
     "output_type": "execute_result"
    }
   ],
   "source": [
    "X = df.drop(columns='Rating_category')\n",
    "X"
   ]
  },
  {
   "cell_type": "code",
   "execution_count": 268,
   "id": "170ff940",
   "metadata": {
    "ExecuteTime": {
     "end_time": "2023-04-23T13:05:16.375172Z",
     "start_time": "2023-04-23T13:05:16.362906Z"
    }
   },
   "outputs": [
    {
     "data": {
      "text/html": [
       "<div>\n",
       "<style scoped>\n",
       "    .dataframe tbody tr th:only-of-type {\n",
       "        vertical-align: middle;\n",
       "    }\n",
       "\n",
       "    .dataframe tbody tr th {\n",
       "        vertical-align: top;\n",
       "    }\n",
       "\n",
       "    .dataframe thead th {\n",
       "        text-align: right;\n",
       "    }\n",
       "</style>\n",
       "<table border=\"1\" class=\"dataframe\">\n",
       "  <thead>\n",
       "    <tr style=\"text-align: right;\">\n",
       "      <th></th>\n",
       "      <th>Rating_category</th>\n",
       "    </tr>\n",
       "  </thead>\n",
       "  <tbody>\n",
       "    <tr>\n",
       "      <th>0</th>\n",
       "      <td>0</td>\n",
       "    </tr>\n",
       "    <tr>\n",
       "      <th>1</th>\n",
       "      <td>0</td>\n",
       "    </tr>\n",
       "    <tr>\n",
       "      <th>2</th>\n",
       "      <td>0</td>\n",
       "    </tr>\n",
       "    <tr>\n",
       "      <th>3</th>\n",
       "      <td>0</td>\n",
       "    </tr>\n",
       "    <tr>\n",
       "      <th>4</th>\n",
       "      <td>0</td>\n",
       "    </tr>\n",
       "    <tr>\n",
       "      <th>...</th>\n",
       "      <td>...</td>\n",
       "    </tr>\n",
       "    <tr>\n",
       "      <th>10833</th>\n",
       "      <td>0</td>\n",
       "    </tr>\n",
       "    <tr>\n",
       "      <th>10834</th>\n",
       "      <td>0</td>\n",
       "    </tr>\n",
       "    <tr>\n",
       "      <th>10836</th>\n",
       "      <td>0</td>\n",
       "    </tr>\n",
       "    <tr>\n",
       "      <th>10837</th>\n",
       "      <td>0</td>\n",
       "    </tr>\n",
       "    <tr>\n",
       "      <th>10840</th>\n",
       "      <td>0</td>\n",
       "    </tr>\n",
       "  </tbody>\n",
       "</table>\n",
       "<p>7424 rows × 1 columns</p>\n",
       "</div>"
      ],
      "text/plain": [
       "       Rating_category\n",
       "0                    0\n",
       "1                    0\n",
       "2                    0\n",
       "3                    0\n",
       "4                    0\n",
       "...                ...\n",
       "10833                0\n",
       "10834                0\n",
       "10836                0\n",
       "10837                0\n",
       "10840                0\n",
       "\n",
       "[7424 rows x 1 columns]"
      ]
     },
     "execution_count": 268,
     "metadata": {},
     "output_type": "execute_result"
    }
   ],
   "source": [
    "y = df[['Rating_category']]\n",
    "y"
   ]
  },
  {
   "cell_type": "markdown",
   "id": "b2bb2eab",
   "metadata": {
    "ExecuteTime": {
     "end_time": "2023-04-22T08:16:59.218364Z",
     "start_time": "2023-04-22T08:16:59.195454Z"
    }
   },
   "source": [
    "Dependent and independent variables are selected as shown in above dataframes X and y.\n",
    "***"
   ]
  },
  {
   "cell_type": "markdown",
   "id": "8eae53b9",
   "metadata": {},
   "source": [
    "### 15.0 Split the dataset into train and test."
   ]
  },
  {
   "cell_type": "code",
   "execution_count": 269,
   "id": "04dd8e42",
   "metadata": {
    "ExecuteTime": {
     "end_time": "2023-04-23T13:05:16.421342Z",
     "start_time": "2023-04-23T13:05:16.396803Z"
    }
   },
   "outputs": [],
   "source": [
    "from sklearn.model_selection import train_test_split\n",
    "X_train, X_test, y_train, y_test = train_test_split(X,y, test_size=0.25, random_state=20)"
   ]
  },
  {
   "cell_type": "code",
   "execution_count": 270,
   "id": "6353d147",
   "metadata": {
    "ExecuteTime": {
     "end_time": "2023-04-23T13:05:16.451913Z",
     "start_time": "2023-04-23T13:05:16.423337Z"
    }
   },
   "outputs": [
    {
     "data": {
      "text/html": [
       "<div>\n",
       "<style scoped>\n",
       "    .dataframe tbody tr th:only-of-type {\n",
       "        vertical-align: middle;\n",
       "    }\n",
       "\n",
       "    .dataframe tbody tr th {\n",
       "        vertical-align: top;\n",
       "    }\n",
       "\n",
       "    .dataframe thead th {\n",
       "        text-align: right;\n",
       "    }\n",
       "</style>\n",
       "<table border=\"1\" class=\"dataframe\">\n",
       "  <thead>\n",
       "    <tr style=\"text-align: right;\">\n",
       "      <th></th>\n",
       "      <th>Category</th>\n",
       "      <th>Size</th>\n",
       "      <th>Installs</th>\n",
       "      <th>Type</th>\n",
       "      <th>Price</th>\n",
       "      <th>Content Rating</th>\n",
       "      <th>Genres</th>\n",
       "      <th>Reviews_log</th>\n",
       "    </tr>\n",
       "  </thead>\n",
       "  <tbody>\n",
       "    <tr>\n",
       "      <th>9142</th>\n",
       "      <td>14</td>\n",
       "      <td>22000000.0</td>\n",
       "      <td>50000000</td>\n",
       "      <td>0</td>\n",
       "      <td>0.0</td>\n",
       "      <td>2</td>\n",
       "      <td>84</td>\n",
       "      <td>15.022768</td>\n",
       "    </tr>\n",
       "    <tr>\n",
       "      <th>928</th>\n",
       "      <td>9</td>\n",
       "      <td>4400000.0</td>\n",
       "      <td>1000000</td>\n",
       "      <td>0</td>\n",
       "      <td>0.0</td>\n",
       "      <td>3</td>\n",
       "      <td>49</td>\n",
       "      <td>11.073629</td>\n",
       "    </tr>\n",
       "    <tr>\n",
       "      <th>6731</th>\n",
       "      <td>11</td>\n",
       "      <td>3300000.0</td>\n",
       "      <td>100</td>\n",
       "      <td>0</td>\n",
       "      <td>0.0</td>\n",
       "      <td>1</td>\n",
       "      <td>49</td>\n",
       "      <td>1.791759</td>\n",
       "    </tr>\n",
       "    <tr>\n",
       "      <th>6600</th>\n",
       "      <td>20</td>\n",
       "      <td>335000.0</td>\n",
       "      <td>10000</td>\n",
       "      <td>0</td>\n",
       "      <td>0.0</td>\n",
       "      <td>1</td>\n",
       "      <td>67</td>\n",
       "      <td>4.521789</td>\n",
       "    </tr>\n",
       "    <tr>\n",
       "      <th>5453</th>\n",
       "      <td>29</td>\n",
       "      <td>2800000.0</td>\n",
       "      <td>10000</td>\n",
       "      <td>0</td>\n",
       "      <td>0.0</td>\n",
       "      <td>1</td>\n",
       "      <td>103</td>\n",
       "      <td>5.181784</td>\n",
       "    </tr>\n",
       "    <tr>\n",
       "      <th>...</th>\n",
       "      <td>...</td>\n",
       "      <td>...</td>\n",
       "      <td>...</td>\n",
       "      <td>...</td>\n",
       "      <td>...</td>\n",
       "      <td>...</td>\n",
       "      <td>...</td>\n",
       "      <td>...</td>\n",
       "    </tr>\n",
       "    <tr>\n",
       "      <th>10783</th>\n",
       "      <td>14</td>\n",
       "      <td>72000000.0</td>\n",
       "      <td>50000</td>\n",
       "      <td>0</td>\n",
       "      <td>0.0</td>\n",
       "      <td>3</td>\n",
       "      <td>0</td>\n",
       "      <td>5.831882</td>\n",
       "    </tr>\n",
       "    <tr>\n",
       "      <th>10290</th>\n",
       "      <td>17</td>\n",
       "      <td>7400000.0</td>\n",
       "      <td>100000</td>\n",
       "      <td>0</td>\n",
       "      <td>0.0</td>\n",
       "      <td>1</td>\n",
       "      <td>63</td>\n",
       "      <td>7.288928</td>\n",
       "    </tr>\n",
       "    <tr>\n",
       "      <th>10789</th>\n",
       "      <td>14</td>\n",
       "      <td>48000000.0</td>\n",
       "      <td>50000</td>\n",
       "      <td>0</td>\n",
       "      <td>0.0</td>\n",
       "      <td>2</td>\n",
       "      <td>0</td>\n",
       "      <td>5.910797</td>\n",
       "    </tr>\n",
       "    <tr>\n",
       "      <th>6521</th>\n",
       "      <td>21</td>\n",
       "      <td>3800000.0</td>\n",
       "      <td>50000</td>\n",
       "      <td>0</td>\n",
       "      <td>0.0</td>\n",
       "      <td>1</td>\n",
       "      <td>71</td>\n",
       "      <td>6.280396</td>\n",
       "    </tr>\n",
       "    <tr>\n",
       "      <th>4054</th>\n",
       "      <td>28</td>\n",
       "      <td>13000000.0</td>\n",
       "      <td>100000000</td>\n",
       "      <td>0</td>\n",
       "      <td>0.0</td>\n",
       "      <td>1</td>\n",
       "      <td>97</td>\n",
       "      <td>13.888988</td>\n",
       "    </tr>\n",
       "  </tbody>\n",
       "</table>\n",
       "<p>5568 rows × 8 columns</p>\n",
       "</div>"
      ],
      "text/plain": [
       "       Category        Size   Installs  Type  Price  Content Rating  Genres  \\\n",
       "9142         14  22000000.0   50000000     0    0.0               2      84   \n",
       "928           9   4400000.0    1000000     0    0.0               3      49   \n",
       "6731         11   3300000.0        100     0    0.0               1      49   \n",
       "6600         20    335000.0      10000     0    0.0               1      67   \n",
       "5453         29   2800000.0      10000     0    0.0               1     103   \n",
       "...         ...         ...        ...   ...    ...             ...     ...   \n",
       "10783        14  72000000.0      50000     0    0.0               3       0   \n",
       "10290        17   7400000.0     100000     0    0.0               1      63   \n",
       "10789        14  48000000.0      50000     0    0.0               2       0   \n",
       "6521         21   3800000.0      50000     0    0.0               1      71   \n",
       "4054         28  13000000.0  100000000     0    0.0               1      97   \n",
       "\n",
       "       Reviews_log  \n",
       "9142     15.022768  \n",
       "928      11.073629  \n",
       "6731      1.791759  \n",
       "6600      4.521789  \n",
       "5453      5.181784  \n",
       "...            ...  \n",
       "10783     5.831882  \n",
       "10290     7.288928  \n",
       "10789     5.910797  \n",
       "6521      6.280396  \n",
       "4054     13.888988  \n",
       "\n",
       "[5568 rows x 8 columns]"
      ]
     },
     "execution_count": 270,
     "metadata": {},
     "output_type": "execute_result"
    }
   ],
   "source": [
    "X_train"
   ]
  },
  {
   "cell_type": "code",
   "execution_count": 271,
   "id": "2a700b8d",
   "metadata": {
    "ExecuteTime": {
     "end_time": "2023-04-23T13:05:16.482858Z",
     "start_time": "2023-04-23T13:05:16.458799Z"
    }
   },
   "outputs": [
    {
     "data": {
      "text/html": [
       "<div>\n",
       "<style scoped>\n",
       "    .dataframe tbody tr th:only-of-type {\n",
       "        vertical-align: middle;\n",
       "    }\n",
       "\n",
       "    .dataframe tbody tr th {\n",
       "        vertical-align: top;\n",
       "    }\n",
       "\n",
       "    .dataframe thead th {\n",
       "        text-align: right;\n",
       "    }\n",
       "</style>\n",
       "<table border=\"1\" class=\"dataframe\">\n",
       "  <thead>\n",
       "    <tr style=\"text-align: right;\">\n",
       "      <th></th>\n",
       "      <th>Rating_category</th>\n",
       "    </tr>\n",
       "  </thead>\n",
       "  <tbody>\n",
       "    <tr>\n",
       "      <th>9142</th>\n",
       "      <td>0</td>\n",
       "    </tr>\n",
       "    <tr>\n",
       "      <th>928</th>\n",
       "      <td>0</td>\n",
       "    </tr>\n",
       "    <tr>\n",
       "      <th>6731</th>\n",
       "      <td>0</td>\n",
       "    </tr>\n",
       "    <tr>\n",
       "      <th>6600</th>\n",
       "      <td>0</td>\n",
       "    </tr>\n",
       "    <tr>\n",
       "      <th>5453</th>\n",
       "      <td>0</td>\n",
       "    </tr>\n",
       "    <tr>\n",
       "      <th>...</th>\n",
       "      <td>...</td>\n",
       "    </tr>\n",
       "    <tr>\n",
       "      <th>10783</th>\n",
       "      <td>0</td>\n",
       "    </tr>\n",
       "    <tr>\n",
       "      <th>10290</th>\n",
       "      <td>0</td>\n",
       "    </tr>\n",
       "    <tr>\n",
       "      <th>10789</th>\n",
       "      <td>0</td>\n",
       "    </tr>\n",
       "    <tr>\n",
       "      <th>6521</th>\n",
       "      <td>0</td>\n",
       "    </tr>\n",
       "    <tr>\n",
       "      <th>4054</th>\n",
       "      <td>0</td>\n",
       "    </tr>\n",
       "  </tbody>\n",
       "</table>\n",
       "<p>5568 rows × 1 columns</p>\n",
       "</div>"
      ],
      "text/plain": [
       "       Rating_category\n",
       "9142                 0\n",
       "928                  0\n",
       "6731                 0\n",
       "6600                 0\n",
       "5453                 0\n",
       "...                ...\n",
       "10783                0\n",
       "10290                0\n",
       "10789                0\n",
       "6521                 0\n",
       "4054                 0\n",
       "\n",
       "[5568 rows x 1 columns]"
      ]
     },
     "execution_count": 271,
     "metadata": {},
     "output_type": "execute_result"
    }
   ],
   "source": [
    "y_train"
   ]
  },
  {
   "cell_type": "code",
   "execution_count": 272,
   "id": "853b2d5b",
   "metadata": {
    "ExecuteTime": {
     "end_time": "2023-04-23T13:05:16.514482Z",
     "start_time": "2023-04-23T13:05:16.486401Z"
    }
   },
   "outputs": [
    {
     "data": {
      "text/html": [
       "<div>\n",
       "<style scoped>\n",
       "    .dataframe tbody tr th:only-of-type {\n",
       "        vertical-align: middle;\n",
       "    }\n",
       "\n",
       "    .dataframe tbody tr th {\n",
       "        vertical-align: top;\n",
       "    }\n",
       "\n",
       "    .dataframe thead th {\n",
       "        text-align: right;\n",
       "    }\n",
       "</style>\n",
       "<table border=\"1\" class=\"dataframe\">\n",
       "  <thead>\n",
       "    <tr style=\"text-align: right;\">\n",
       "      <th></th>\n",
       "      <th>Category</th>\n",
       "      <th>Size</th>\n",
       "      <th>Installs</th>\n",
       "      <th>Type</th>\n",
       "      <th>Price</th>\n",
       "      <th>Content Rating</th>\n",
       "      <th>Genres</th>\n",
       "      <th>Reviews_log</th>\n",
       "    </tr>\n",
       "  </thead>\n",
       "  <tbody>\n",
       "    <tr>\n",
       "      <th>5506</th>\n",
       "      <td>11</td>\n",
       "      <td>52000000.0</td>\n",
       "      <td>50</td>\n",
       "      <td>0</td>\n",
       "      <td>0.0</td>\n",
       "      <td>1</td>\n",
       "      <td>36</td>\n",
       "      <td>1.609438</td>\n",
       "    </tr>\n",
       "    <tr>\n",
       "      <th>3261</th>\n",
       "      <td>29</td>\n",
       "      <td>2500000.0</td>\n",
       "      <td>100000000</td>\n",
       "      <td>0</td>\n",
       "      <td>0.0</td>\n",
       "      <td>1</td>\n",
       "      <td>103</td>\n",
       "      <td>9.169831</td>\n",
       "    </tr>\n",
       "    <tr>\n",
       "      <th>8734</th>\n",
       "      <td>4</td>\n",
       "      <td>2700000.0</td>\n",
       "      <td>10000</td>\n",
       "      <td>0</td>\n",
       "      <td>0.0</td>\n",
       "      <td>1</td>\n",
       "      <td>20</td>\n",
       "      <td>2.772589</td>\n",
       "    </tr>\n",
       "    <tr>\n",
       "      <th>7243</th>\n",
       "      <td>18</td>\n",
       "      <td>8300000.0</td>\n",
       "      <td>100</td>\n",
       "      <td>0</td>\n",
       "      <td>0.0</td>\n",
       "      <td>1</td>\n",
       "      <td>64</td>\n",
       "      <td>1.791759</td>\n",
       "    </tr>\n",
       "    <tr>\n",
       "      <th>8261</th>\n",
       "      <td>14</td>\n",
       "      <td>92000000.0</td>\n",
       "      <td>50000000</td>\n",
       "      <td>0</td>\n",
       "      <td>0.0</td>\n",
       "      <td>4</td>\n",
       "      <td>0</td>\n",
       "      <td>14.719290</td>\n",
       "    </tr>\n",
       "    <tr>\n",
       "      <th>...</th>\n",
       "      <td>...</td>\n",
       "      <td>...</td>\n",
       "      <td>...</td>\n",
       "      <td>...</td>\n",
       "      <td>...</td>\n",
       "      <td>...</td>\n",
       "      <td>...</td>\n",
       "      <td>...</td>\n",
       "    </tr>\n",
       "    <tr>\n",
       "      <th>1532</th>\n",
       "      <td>17</td>\n",
       "      <td>8500.0</td>\n",
       "      <td>50000</td>\n",
       "      <td>0</td>\n",
       "      <td>0.0</td>\n",
       "      <td>1</td>\n",
       "      <td>63</td>\n",
       "      <td>5.472271</td>\n",
       "    </tr>\n",
       "    <tr>\n",
       "      <th>8175</th>\n",
       "      <td>29</td>\n",
       "      <td>26000000.0</td>\n",
       "      <td>50000000</td>\n",
       "      <td>0</td>\n",
       "      <td>0.0</td>\n",
       "      <td>1</td>\n",
       "      <td>103</td>\n",
       "      <td>14.799105</td>\n",
       "    </tr>\n",
       "    <tr>\n",
       "      <th>7823</th>\n",
       "      <td>11</td>\n",
       "      <td>6700000.0</td>\n",
       "      <td>5000</td>\n",
       "      <td>0</td>\n",
       "      <td>0.0</td>\n",
       "      <td>1</td>\n",
       "      <td>36</td>\n",
       "      <td>3.526361</td>\n",
       "    </tr>\n",
       "    <tr>\n",
       "      <th>6709</th>\n",
       "      <td>3</td>\n",
       "      <td>2100000.0</td>\n",
       "      <td>10000</td>\n",
       "      <td>0</td>\n",
       "      <td>0.0</td>\n",
       "      <td>1</td>\n",
       "      <td>18</td>\n",
       "      <td>5.056246</td>\n",
       "    </tr>\n",
       "    <tr>\n",
       "      <th>3457</th>\n",
       "      <td>25</td>\n",
       "      <td>50000000.0</td>\n",
       "      <td>100000000</td>\n",
       "      <td>0</td>\n",
       "      <td>0.0</td>\n",
       "      <td>1</td>\n",
       "      <td>78</td>\n",
       "      <td>14.995057</td>\n",
       "    </tr>\n",
       "  </tbody>\n",
       "</table>\n",
       "<p>1856 rows × 8 columns</p>\n",
       "</div>"
      ],
      "text/plain": [
       "      Category        Size   Installs  Type  Price  Content Rating  Genres  \\\n",
       "5506        11  52000000.0         50     0    0.0               1      36   \n",
       "3261        29   2500000.0  100000000     0    0.0               1     103   \n",
       "8734         4   2700000.0      10000     0    0.0               1      20   \n",
       "7243        18   8300000.0        100     0    0.0               1      64   \n",
       "8261        14  92000000.0   50000000     0    0.0               4       0   \n",
       "...        ...         ...        ...   ...    ...             ...     ...   \n",
       "1532        17      8500.0      50000     0    0.0               1      63   \n",
       "8175        29  26000000.0   50000000     0    0.0               1     103   \n",
       "7823        11   6700000.0       5000     0    0.0               1      36   \n",
       "6709         3   2100000.0      10000     0    0.0               1      18   \n",
       "3457        25  50000000.0  100000000     0    0.0               1      78   \n",
       "\n",
       "      Reviews_log  \n",
       "5506     1.609438  \n",
       "3261     9.169831  \n",
       "8734     2.772589  \n",
       "7243     1.791759  \n",
       "8261    14.719290  \n",
       "...           ...  \n",
       "1532     5.472271  \n",
       "8175    14.799105  \n",
       "7823     3.526361  \n",
       "6709     5.056246  \n",
       "3457    14.995057  \n",
       "\n",
       "[1856 rows x 8 columns]"
      ]
     },
     "execution_count": 272,
     "metadata": {},
     "output_type": "execute_result"
    }
   ],
   "source": [
    "X_test"
   ]
  },
  {
   "cell_type": "code",
   "execution_count": 273,
   "id": "18f17a24",
   "metadata": {
    "ExecuteTime": {
     "end_time": "2023-04-23T13:05:16.530268Z",
     "start_time": "2023-04-23T13:05:16.518772Z"
    }
   },
   "outputs": [
    {
     "data": {
      "text/html": [
       "<div>\n",
       "<style scoped>\n",
       "    .dataframe tbody tr th:only-of-type {\n",
       "        vertical-align: middle;\n",
       "    }\n",
       "\n",
       "    .dataframe tbody tr th {\n",
       "        vertical-align: top;\n",
       "    }\n",
       "\n",
       "    .dataframe thead th {\n",
       "        text-align: right;\n",
       "    }\n",
       "</style>\n",
       "<table border=\"1\" class=\"dataframe\">\n",
       "  <thead>\n",
       "    <tr style=\"text-align: right;\">\n",
       "      <th></th>\n",
       "      <th>Rating_category</th>\n",
       "    </tr>\n",
       "  </thead>\n",
       "  <tbody>\n",
       "    <tr>\n",
       "      <th>5506</th>\n",
       "      <td>0</td>\n",
       "    </tr>\n",
       "    <tr>\n",
       "      <th>3261</th>\n",
       "      <td>0</td>\n",
       "    </tr>\n",
       "    <tr>\n",
       "      <th>8734</th>\n",
       "      <td>1</td>\n",
       "    </tr>\n",
       "    <tr>\n",
       "      <th>7243</th>\n",
       "      <td>0</td>\n",
       "    </tr>\n",
       "    <tr>\n",
       "      <th>8261</th>\n",
       "      <td>0</td>\n",
       "    </tr>\n",
       "    <tr>\n",
       "      <th>...</th>\n",
       "      <td>...</td>\n",
       "    </tr>\n",
       "    <tr>\n",
       "      <th>1532</th>\n",
       "      <td>0</td>\n",
       "    </tr>\n",
       "    <tr>\n",
       "      <th>8175</th>\n",
       "      <td>0</td>\n",
       "    </tr>\n",
       "    <tr>\n",
       "      <th>7823</th>\n",
       "      <td>0</td>\n",
       "    </tr>\n",
       "    <tr>\n",
       "      <th>6709</th>\n",
       "      <td>0</td>\n",
       "    </tr>\n",
       "    <tr>\n",
       "      <th>3457</th>\n",
       "      <td>0</td>\n",
       "    </tr>\n",
       "  </tbody>\n",
       "</table>\n",
       "<p>1856 rows × 1 columns</p>\n",
       "</div>"
      ],
      "text/plain": [
       "      Rating_category\n",
       "5506                0\n",
       "3261                0\n",
       "8734                1\n",
       "7243                0\n",
       "8261                0\n",
       "...               ...\n",
       "1532                0\n",
       "8175                0\n",
       "7823                0\n",
       "6709                0\n",
       "3457                0\n",
       "\n",
       "[1856 rows x 1 columns]"
      ]
     },
     "execution_count": 273,
     "metadata": {},
     "output_type": "execute_result"
    }
   ],
   "source": [
    "y_test"
   ]
  },
  {
   "cell_type": "markdown",
   "id": "8602e3cd",
   "metadata": {},
   "source": [
    "Data is splitted into Train and test with the ratio of 75:25 respectively.\n",
    "***"
   ]
  },
  {
   "cell_type": "markdown",
   "id": "268bc25d",
   "metadata": {},
   "source": [
    "### 16.0 Standardize the data."
   ]
  },
  {
   "cell_type": "code",
   "execution_count": 274,
   "id": "d6c3b30a",
   "metadata": {
    "ExecuteTime": {
     "end_time": "2023-04-23T13:05:16.577446Z",
     "start_time": "2023-04-23T13:05:16.535757Z"
    }
   },
   "outputs": [],
   "source": [
    "from sklearn.preprocessing import StandardScaler\n",
    "ss = StandardScaler()\n",
    "\n",
    "X_train_ss = pd.DataFrame(ss.fit_transform(X_train))\n",
    "X_train_ss.columns = X_train.columns\n",
    "\n",
    "y_train_ss = pd.DataFrame(ss.fit_transform(y_train))\n",
    "y_train_ss.columns = y_train.columns\n",
    "\n",
    "X_test_ss = pd.DataFrame(ss.fit_transform(X_test))\n",
    "X_test_ss.columns = X_test.columns\n",
    "\n",
    "y_test_ss = pd.DataFrame(ss.fit_transform(y_test))\n",
    "y_test_ss.columns = y_test.columns"
   ]
  },
  {
   "cell_type": "code",
   "execution_count": 275,
   "id": "9be3f668",
   "metadata": {
    "ExecuteTime": {
     "end_time": "2023-04-23T13:05:16.607959Z",
     "start_time": "2023-04-23T13:05:16.579441Z"
    }
   },
   "outputs": [
    {
     "data": {
      "text/html": [
       "<div>\n",
       "<style scoped>\n",
       "    .dataframe tbody tr th:only-of-type {\n",
       "        vertical-align: middle;\n",
       "    }\n",
       "\n",
       "    .dataframe tbody tr th {\n",
       "        vertical-align: top;\n",
       "    }\n",
       "\n",
       "    .dataframe thead th {\n",
       "        text-align: right;\n",
       "    }\n",
       "</style>\n",
       "<table border=\"1\" class=\"dataframe\">\n",
       "  <thead>\n",
       "    <tr style=\"text-align: right;\">\n",
       "      <th></th>\n",
       "      <th>Category</th>\n",
       "      <th>Size</th>\n",
       "      <th>Installs</th>\n",
       "      <th>Type</th>\n",
       "      <th>Price</th>\n",
       "      <th>Content Rating</th>\n",
       "      <th>Genres</th>\n",
       "      <th>Reviews_log</th>\n",
       "    </tr>\n",
       "  </thead>\n",
       "  <tbody>\n",
       "    <tr>\n",
       "      <th>0</th>\n",
       "      <td>-0.314713</td>\n",
       "      <td>-0.023929</td>\n",
       "      <td>0.880574</td>\n",
       "      <td>-0.288197</td>\n",
       "      <td>-0.068554</td>\n",
       "      <td>0.529173</td>\n",
       "      <td>0.749435</td>\n",
       "      <td>2.016773</td>\n",
       "    </tr>\n",
       "    <tr>\n",
       "      <th>1</th>\n",
       "      <td>-0.933033</td>\n",
       "      <td>-0.778341</td>\n",
       "      <td>-0.147351</td>\n",
       "      <td>-0.288197</td>\n",
       "      <td>-0.068554</td>\n",
       "      <td>1.522243</td>\n",
       "      <td>-0.349345</td>\n",
       "      <td>0.938501</td>\n",
       "    </tr>\n",
       "    <tr>\n",
       "      <th>2</th>\n",
       "      <td>-0.685705</td>\n",
       "      <td>-0.825491</td>\n",
       "      <td>-0.168327</td>\n",
       "      <td>-0.288197</td>\n",
       "      <td>-0.068554</td>\n",
       "      <td>-0.463896</td>\n",
       "      <td>-0.349345</td>\n",
       "      <td>-1.595819</td>\n",
       "    </tr>\n",
       "    <tr>\n",
       "      <th>3</th>\n",
       "      <td>0.427272</td>\n",
       "      <td>-0.952584</td>\n",
       "      <td>-0.168120</td>\n",
       "      <td>-0.288197</td>\n",
       "      <td>-0.068554</td>\n",
       "      <td>-0.463896</td>\n",
       "      <td>0.215742</td>\n",
       "      <td>-0.850412</td>\n",
       "    </tr>\n",
       "    <tr>\n",
       "      <th>4</th>\n",
       "      <td>1.540249</td>\n",
       "      <td>-0.846924</td>\n",
       "      <td>-0.168120</td>\n",
       "      <td>-0.288197</td>\n",
       "      <td>-0.068554</td>\n",
       "      <td>-0.463896</td>\n",
       "      <td>1.345915</td>\n",
       "      <td>-0.670207</td>\n",
       "    </tr>\n",
       "    <tr>\n",
       "      <th>...</th>\n",
       "      <td>...</td>\n",
       "      <td>...</td>\n",
       "      <td>...</td>\n",
       "      <td>...</td>\n",
       "      <td>...</td>\n",
       "      <td>...</td>\n",
       "      <td>...</td>\n",
       "      <td>...</td>\n",
       "    </tr>\n",
       "    <tr>\n",
       "      <th>5563</th>\n",
       "      <td>-0.314713</td>\n",
       "      <td>2.119287</td>\n",
       "      <td>-0.167281</td>\n",
       "      <td>-0.288197</td>\n",
       "      <td>-0.068554</td>\n",
       "      <td>1.522243</td>\n",
       "      <td>-1.887637</td>\n",
       "      <td>-0.492705</td>\n",
       "    </tr>\n",
       "    <tr>\n",
       "      <th>5564</th>\n",
       "      <td>0.056280</td>\n",
       "      <td>-0.649748</td>\n",
       "      <td>-0.166232</td>\n",
       "      <td>-0.288197</td>\n",
       "      <td>-0.068554</td>\n",
       "      <td>-0.463896</td>\n",
       "      <td>0.090167</td>\n",
       "      <td>-0.094873</td>\n",
       "    </tr>\n",
       "    <tr>\n",
       "      <th>5565</th>\n",
       "      <td>-0.314713</td>\n",
       "      <td>1.090543</td>\n",
       "      <td>-0.167281</td>\n",
       "      <td>-0.288197</td>\n",
       "      <td>-0.068554</td>\n",
       "      <td>0.529173</td>\n",
       "      <td>-1.887637</td>\n",
       "      <td>-0.471158</td>\n",
       "    </tr>\n",
       "    <tr>\n",
       "      <th>5566</th>\n",
       "      <td>0.550936</td>\n",
       "      <td>-0.804059</td>\n",
       "      <td>-0.167281</td>\n",
       "      <td>-0.288197</td>\n",
       "      <td>-0.068554</td>\n",
       "      <td>-0.463896</td>\n",
       "      <td>0.341316</td>\n",
       "      <td>-0.370243</td>\n",
       "    </tr>\n",
       "    <tr>\n",
       "      <th>5567</th>\n",
       "      <td>1.416585</td>\n",
       "      <td>-0.409708</td>\n",
       "      <td>1.929477</td>\n",
       "      <td>-0.288197</td>\n",
       "      <td>-0.068554</td>\n",
       "      <td>-0.463896</td>\n",
       "      <td>1.157553</td>\n",
       "      <td>1.707205</td>\n",
       "    </tr>\n",
       "  </tbody>\n",
       "</table>\n",
       "<p>5568 rows × 8 columns</p>\n",
       "</div>"
      ],
      "text/plain": [
       "      Category      Size  Installs      Type     Price  Content Rating  \\\n",
       "0    -0.314713 -0.023929  0.880574 -0.288197 -0.068554        0.529173   \n",
       "1    -0.933033 -0.778341 -0.147351 -0.288197 -0.068554        1.522243   \n",
       "2    -0.685705 -0.825491 -0.168327 -0.288197 -0.068554       -0.463896   \n",
       "3     0.427272 -0.952584 -0.168120 -0.288197 -0.068554       -0.463896   \n",
       "4     1.540249 -0.846924 -0.168120 -0.288197 -0.068554       -0.463896   \n",
       "...        ...       ...       ...       ...       ...             ...   \n",
       "5563 -0.314713  2.119287 -0.167281 -0.288197 -0.068554        1.522243   \n",
       "5564  0.056280 -0.649748 -0.166232 -0.288197 -0.068554       -0.463896   \n",
       "5565 -0.314713  1.090543 -0.167281 -0.288197 -0.068554        0.529173   \n",
       "5566  0.550936 -0.804059 -0.167281 -0.288197 -0.068554       -0.463896   \n",
       "5567  1.416585 -0.409708  1.929477 -0.288197 -0.068554       -0.463896   \n",
       "\n",
       "        Genres  Reviews_log  \n",
       "0     0.749435     2.016773  \n",
       "1    -0.349345     0.938501  \n",
       "2    -0.349345    -1.595819  \n",
       "3     0.215742    -0.850412  \n",
       "4     1.345915    -0.670207  \n",
       "...        ...          ...  \n",
       "5563 -1.887637    -0.492705  \n",
       "5564  0.090167    -0.094873  \n",
       "5565 -1.887637    -0.471158  \n",
       "5566  0.341316    -0.370243  \n",
       "5567  1.157553     1.707205  \n",
       "\n",
       "[5568 rows x 8 columns]"
      ]
     },
     "execution_count": 275,
     "metadata": {},
     "output_type": "execute_result"
    }
   ],
   "source": [
    "X_train_ss"
   ]
  },
  {
   "cell_type": "code",
   "execution_count": 276,
   "id": "14e47e58",
   "metadata": {
    "ExecuteTime": {
     "end_time": "2023-04-23T13:05:16.655459Z",
     "start_time": "2023-04-23T13:05:16.614469Z"
    }
   },
   "outputs": [
    {
     "data": {
      "text/html": [
       "<div>\n",
       "<style scoped>\n",
       "    .dataframe tbody tr th:only-of-type {\n",
       "        vertical-align: middle;\n",
       "    }\n",
       "\n",
       "    .dataframe tbody tr th {\n",
       "        vertical-align: top;\n",
       "    }\n",
       "\n",
       "    .dataframe thead th {\n",
       "        text-align: right;\n",
       "    }\n",
       "</style>\n",
       "<table border=\"1\" class=\"dataframe\">\n",
       "  <thead>\n",
       "    <tr style=\"text-align: right;\">\n",
       "      <th></th>\n",
       "      <th>Category</th>\n",
       "      <th>Size</th>\n",
       "      <th>Installs</th>\n",
       "      <th>Type</th>\n",
       "      <th>Price</th>\n",
       "      <th>Content Rating</th>\n",
       "      <th>Genres</th>\n",
       "      <th>Reviews_log</th>\n",
       "    </tr>\n",
       "  </thead>\n",
       "  <tbody>\n",
       "    <tr>\n",
       "      <th>0</th>\n",
       "      <td>-0.687980</td>\n",
       "      <td>1.208635</td>\n",
       "      <td>-0.172294</td>\n",
       "      <td>-0.262915</td>\n",
       "      <td>-0.174641</td>\n",
       "      <td>-0.461192</td>\n",
       "      <td>-0.748013</td>\n",
       "      <td>-1.600024</td>\n",
       "    </tr>\n",
       "    <tr>\n",
       "      <th>1</th>\n",
       "      <td>1.481962</td>\n",
       "      <td>-0.877089</td>\n",
       "      <td>2.212928</td>\n",
       "      <td>-0.262915</td>\n",
       "      <td>-0.174641</td>\n",
       "      <td>-0.461192</td>\n",
       "      <td>1.315545</td>\n",
       "      <td>0.406850</td>\n",
       "    </tr>\n",
       "    <tr>\n",
       "      <th>2</th>\n",
       "      <td>-1.531846</td>\n",
       "      <td>-0.868662</td>\n",
       "      <td>-0.172057</td>\n",
       "      <td>-0.262915</td>\n",
       "      <td>-0.174641</td>\n",
       "      <td>-0.461192</td>\n",
       "      <td>-1.240804</td>\n",
       "      <td>-1.291270</td>\n",
       "    </tr>\n",
       "    <tr>\n",
       "      <th>3</th>\n",
       "      <td>0.155887</td>\n",
       "      <td>-0.632701</td>\n",
       "      <td>-0.172293</td>\n",
       "      <td>-0.262915</td>\n",
       "      <td>-0.174641</td>\n",
       "      <td>-0.461192</td>\n",
       "      <td>0.114369</td>\n",
       "      <td>-1.551627</td>\n",
       "    </tr>\n",
       "    <tr>\n",
       "      <th>4</th>\n",
       "      <td>-0.326323</td>\n",
       "      <td>2.894068</td>\n",
       "      <td>1.020316</td>\n",
       "      <td>-0.262915</td>\n",
       "      <td>-0.174641</td>\n",
       "      <td>2.524757</td>\n",
       "      <td>-1.856791</td>\n",
       "      <td>1.879930</td>\n",
       "    </tr>\n",
       "    <tr>\n",
       "      <th>...</th>\n",
       "      <td>...</td>\n",
       "      <td>...</td>\n",
       "      <td>...</td>\n",
       "      <td>...</td>\n",
       "      <td>...</td>\n",
       "      <td>...</td>\n",
       "      <td>...</td>\n",
       "      <td>...</td>\n",
       "    </tr>\n",
       "    <tr>\n",
       "      <th>1851</th>\n",
       "      <td>0.035334</td>\n",
       "      <td>-0.982070</td>\n",
       "      <td>-0.171103</td>\n",
       "      <td>-0.262915</td>\n",
       "      <td>-0.174641</td>\n",
       "      <td>-0.461192</td>\n",
       "      <td>0.083570</td>\n",
       "      <td>-0.574651</td>\n",
       "    </tr>\n",
       "    <tr>\n",
       "      <th>1852</th>\n",
       "      <td>1.481962</td>\n",
       "      <td>0.113103</td>\n",
       "      <td>1.020316</td>\n",
       "      <td>-0.262915</td>\n",
       "      <td>-0.174641</td>\n",
       "      <td>-0.461192</td>\n",
       "      <td>1.315545</td>\n",
       "      <td>1.901117</td>\n",
       "    </tr>\n",
       "    <tr>\n",
       "      <th>1853</th>\n",
       "      <td>-0.687980</td>\n",
       "      <td>-0.700118</td>\n",
       "      <td>-0.172176</td>\n",
       "      <td>-0.262915</td>\n",
       "      <td>-0.174641</td>\n",
       "      <td>-0.461192</td>\n",
       "      <td>-0.748013</td>\n",
       "      <td>-1.091185</td>\n",
       "    </tr>\n",
       "    <tr>\n",
       "      <th>1854</th>\n",
       "      <td>-1.652398</td>\n",
       "      <td>-0.893943</td>\n",
       "      <td>-0.172057</td>\n",
       "      <td>-0.262915</td>\n",
       "      <td>-0.174641</td>\n",
       "      <td>-0.461192</td>\n",
       "      <td>-1.302402</td>\n",
       "      <td>-0.685083</td>\n",
       "    </tr>\n",
       "    <tr>\n",
       "      <th>1855</th>\n",
       "      <td>0.999753</td>\n",
       "      <td>1.124363</td>\n",
       "      <td>2.212928</td>\n",
       "      <td>-0.262915</td>\n",
       "      <td>-0.174641</td>\n",
       "      <td>-0.461192</td>\n",
       "      <td>0.545561</td>\n",
       "      <td>1.953131</td>\n",
       "    </tr>\n",
       "  </tbody>\n",
       "</table>\n",
       "<p>1856 rows × 8 columns</p>\n",
       "</div>"
      ],
      "text/plain": [
       "      Category      Size  Installs      Type     Price  Content Rating  \\\n",
       "0    -0.687980  1.208635 -0.172294 -0.262915 -0.174641       -0.461192   \n",
       "1     1.481962 -0.877089  2.212928 -0.262915 -0.174641       -0.461192   \n",
       "2    -1.531846 -0.868662 -0.172057 -0.262915 -0.174641       -0.461192   \n",
       "3     0.155887 -0.632701 -0.172293 -0.262915 -0.174641       -0.461192   \n",
       "4    -0.326323  2.894068  1.020316 -0.262915 -0.174641        2.524757   \n",
       "...        ...       ...       ...       ...       ...             ...   \n",
       "1851  0.035334 -0.982070 -0.171103 -0.262915 -0.174641       -0.461192   \n",
       "1852  1.481962  0.113103  1.020316 -0.262915 -0.174641       -0.461192   \n",
       "1853 -0.687980 -0.700118 -0.172176 -0.262915 -0.174641       -0.461192   \n",
       "1854 -1.652398 -0.893943 -0.172057 -0.262915 -0.174641       -0.461192   \n",
       "1855  0.999753  1.124363  2.212928 -0.262915 -0.174641       -0.461192   \n",
       "\n",
       "        Genres  Reviews_log  \n",
       "0    -0.748013    -1.600024  \n",
       "1     1.315545     0.406850  \n",
       "2    -1.240804    -1.291270  \n",
       "3     0.114369    -1.551627  \n",
       "4    -1.856791     1.879930  \n",
       "...        ...          ...  \n",
       "1851  0.083570    -0.574651  \n",
       "1852  1.315545     1.901117  \n",
       "1853 -0.748013    -1.091185  \n",
       "1854 -1.302402    -0.685083  \n",
       "1855  0.545561     1.953131  \n",
       "\n",
       "[1856 rows x 8 columns]"
      ]
     },
     "execution_count": 276,
     "metadata": {},
     "output_type": "execute_result"
    }
   ],
   "source": [
    "X_test_ss"
   ]
  },
  {
   "cell_type": "code",
   "execution_count": 277,
   "id": "6667ea48",
   "metadata": {
    "ExecuteTime": {
     "end_time": "2023-04-23T13:05:16.685776Z",
     "start_time": "2023-04-23T13:05:16.660459Z"
    }
   },
   "outputs": [
    {
     "data": {
      "text/html": [
       "<div>\n",
       "<style scoped>\n",
       "    .dataframe tbody tr th:only-of-type {\n",
       "        vertical-align: middle;\n",
       "    }\n",
       "\n",
       "    .dataframe tbody tr th {\n",
       "        vertical-align: top;\n",
       "    }\n",
       "\n",
       "    .dataframe thead th {\n",
       "        text-align: right;\n",
       "    }\n",
       "</style>\n",
       "<table border=\"1\" class=\"dataframe\">\n",
       "  <thead>\n",
       "    <tr style=\"text-align: right;\">\n",
       "      <th></th>\n",
       "      <th>Rating_category</th>\n",
       "    </tr>\n",
       "  </thead>\n",
       "  <tbody>\n",
       "    <tr>\n",
       "      <th>0</th>\n",
       "      <td>-0.345573</td>\n",
       "    </tr>\n",
       "    <tr>\n",
       "      <th>1</th>\n",
       "      <td>-0.345573</td>\n",
       "    </tr>\n",
       "    <tr>\n",
       "      <th>2</th>\n",
       "      <td>-0.345573</td>\n",
       "    </tr>\n",
       "    <tr>\n",
       "      <th>3</th>\n",
       "      <td>-0.345573</td>\n",
       "    </tr>\n",
       "    <tr>\n",
       "      <th>4</th>\n",
       "      <td>-0.345573</td>\n",
       "    </tr>\n",
       "    <tr>\n",
       "      <th>...</th>\n",
       "      <td>...</td>\n",
       "    </tr>\n",
       "    <tr>\n",
       "      <th>5563</th>\n",
       "      <td>-0.345573</td>\n",
       "    </tr>\n",
       "    <tr>\n",
       "      <th>5564</th>\n",
       "      <td>-0.345573</td>\n",
       "    </tr>\n",
       "    <tr>\n",
       "      <th>5565</th>\n",
       "      <td>-0.345573</td>\n",
       "    </tr>\n",
       "    <tr>\n",
       "      <th>5566</th>\n",
       "      <td>-0.345573</td>\n",
       "    </tr>\n",
       "    <tr>\n",
       "      <th>5567</th>\n",
       "      <td>-0.345573</td>\n",
       "    </tr>\n",
       "  </tbody>\n",
       "</table>\n",
       "<p>5568 rows × 1 columns</p>\n",
       "</div>"
      ],
      "text/plain": [
       "      Rating_category\n",
       "0           -0.345573\n",
       "1           -0.345573\n",
       "2           -0.345573\n",
       "3           -0.345573\n",
       "4           -0.345573\n",
       "...               ...\n",
       "5563        -0.345573\n",
       "5564        -0.345573\n",
       "5565        -0.345573\n",
       "5566        -0.345573\n",
       "5567        -0.345573\n",
       "\n",
       "[5568 rows x 1 columns]"
      ]
     },
     "execution_count": 277,
     "metadata": {},
     "output_type": "execute_result"
    }
   ],
   "source": [
    "y_train_ss"
   ]
  },
  {
   "cell_type": "code",
   "execution_count": 278,
   "id": "b9e53ebb",
   "metadata": {
    "ExecuteTime": {
     "end_time": "2023-04-23T13:05:16.716766Z",
     "start_time": "2023-04-23T13:05:16.690777Z"
    }
   },
   "outputs": [
    {
     "data": {
      "text/html": [
       "<div>\n",
       "<style scoped>\n",
       "    .dataframe tbody tr th:only-of-type {\n",
       "        vertical-align: middle;\n",
       "    }\n",
       "\n",
       "    .dataframe tbody tr th {\n",
       "        vertical-align: top;\n",
       "    }\n",
       "\n",
       "    .dataframe thead th {\n",
       "        text-align: right;\n",
       "    }\n",
       "</style>\n",
       "<table border=\"1\" class=\"dataframe\">\n",
       "  <thead>\n",
       "    <tr style=\"text-align: right;\">\n",
       "      <th></th>\n",
       "      <th>Rating_category</th>\n",
       "    </tr>\n",
       "  </thead>\n",
       "  <tbody>\n",
       "    <tr>\n",
       "      <th>0</th>\n",
       "      <td>-0.377033</td>\n",
       "    </tr>\n",
       "    <tr>\n",
       "      <th>1</th>\n",
       "      <td>-0.377033</td>\n",
       "    </tr>\n",
       "    <tr>\n",
       "      <th>2</th>\n",
       "      <td>2.652288</td>\n",
       "    </tr>\n",
       "    <tr>\n",
       "      <th>3</th>\n",
       "      <td>-0.377033</td>\n",
       "    </tr>\n",
       "    <tr>\n",
       "      <th>4</th>\n",
       "      <td>-0.377033</td>\n",
       "    </tr>\n",
       "    <tr>\n",
       "      <th>...</th>\n",
       "      <td>...</td>\n",
       "    </tr>\n",
       "    <tr>\n",
       "      <th>1851</th>\n",
       "      <td>-0.377033</td>\n",
       "    </tr>\n",
       "    <tr>\n",
       "      <th>1852</th>\n",
       "      <td>-0.377033</td>\n",
       "    </tr>\n",
       "    <tr>\n",
       "      <th>1853</th>\n",
       "      <td>-0.377033</td>\n",
       "    </tr>\n",
       "    <tr>\n",
       "      <th>1854</th>\n",
       "      <td>-0.377033</td>\n",
       "    </tr>\n",
       "    <tr>\n",
       "      <th>1855</th>\n",
       "      <td>-0.377033</td>\n",
       "    </tr>\n",
       "  </tbody>\n",
       "</table>\n",
       "<p>1856 rows × 1 columns</p>\n",
       "</div>"
      ],
      "text/plain": [
       "      Rating_category\n",
       "0           -0.377033\n",
       "1           -0.377033\n",
       "2            2.652288\n",
       "3           -0.377033\n",
       "4           -0.377033\n",
       "...               ...\n",
       "1851        -0.377033\n",
       "1852        -0.377033\n",
       "1853        -0.377033\n",
       "1854        -0.377033\n",
       "1855        -0.377033\n",
       "\n",
       "[1856 rows x 1 columns]"
      ]
     },
     "execution_count": 278,
     "metadata": {},
     "output_type": "execute_result"
    }
   ],
   "source": [
    "y_test_ss"
   ]
  },
  {
   "cell_type": "markdown",
   "id": "65d56297",
   "metadata": {},
   "source": [
    "Data is standardized with the help of StandardScalar.\n",
    "***"
   ]
  },
  {
   "cell_type": "code",
   "execution_count": null,
   "id": "ad647757",
   "metadata": {},
   "outputs": [],
   "source": []
  }
 ],
 "metadata": {
  "kernelspec": {
   "display_name": "Python 3 (ipykernel)",
   "language": "python",
   "name": "python3"
  },
  "language_info": {
   "codemirror_mode": {
    "name": "ipython",
    "version": 3
   },
   "file_extension": ".py",
   "mimetype": "text/x-python",
   "name": "python",
   "nbconvert_exporter": "python",
   "pygments_lexer": "ipython3",
   "version": "3.9.13"
  },
  "varInspector": {
   "cols": {
    "lenName": 16,
    "lenType": 16,
    "lenVar": 40
   },
   "kernels_config": {
    "python": {
     "delete_cmd_postfix": "",
     "delete_cmd_prefix": "del ",
     "library": "var_list.py",
     "varRefreshCmd": "print(var_dic_list())"
    },
    "r": {
     "delete_cmd_postfix": ") ",
     "delete_cmd_prefix": "rm(",
     "library": "var_list.r",
     "varRefreshCmd": "cat(var_dic_list()) "
    }
   },
   "types_to_exclude": [
    "module",
    "function",
    "builtin_function_or_method",
    "instance",
    "_Feature"
   ],
   "window_display": false
  }
 },
 "nbformat": 4,
 "nbformat_minor": 5
}
